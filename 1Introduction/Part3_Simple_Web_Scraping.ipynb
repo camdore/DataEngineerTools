{
 "cells": [
  {
   "cell_type": "markdown",
   "metadata": {},
   "source": [
    "# Introduction"
   ]
  },
  {
   "cell_type": "markdown",
   "metadata": {},
   "source": [
    "Avant de commencer, parcourer le fichier README.rst"
   ]
  },
  {
   "cell_type": "markdown",
   "metadata": {},
   "source": [
    "# Requête HTTP "
   ]
  },
  {
   "cell_type": "markdown",
   "metadata": {},
   "source": [
    "Un requête HTTP est une requête basé sur le protocole TCP, elle fait partie de la couche application de la couche OSI. Elle permet d'accéder aux données mise à disposition sur une adresse IP (ou url résolue par un DNS) et un port. \n",
    "\n",
    "Les deux ports les plus utilisé dans le web sont le 80 pour les sites en HTTP et le 443 pour les sites en HTTPS. HTTPS est une variable du protocole HTTP basé sur le protocole TLS.\n",
    "\n",
    "Il existe de nombreux types de requêtes selon la convention `REST`: \n",
    "- GET\n",
    "- POST\n",
    "- PUT \n",
    "- DELETE\n",
    "- UPDATE.\n",
    "\n",
    "Dans notre cas nous allons utiliser la plupart du temps des GET et potentiellement des POST. \n",
    "- Le GET permet comme sont nom l'indique de récupérer des informations en fonction de certain paramètres. \n",
    "- Le POST nécéssite un envoie de données pour récupérer des données. Le body du post est, la plupart du temps, envoyé sous la forme d'un objet JSON.\n",
    "\n",
    "Ces requêtes encapsulent un certain nombre de paramètres qui permettent soient d'identifier une provenance et un utilisateur ou de réaliser différentes actions."
   ]
  },
  {
   "cell_type": "code",
   "execution_count": 1,
   "metadata": {},
   "outputs": [],
   "source": [
    "import requests"
   ]
  },
  {
   "cell_type": "code",
   "execution_count": 2,
   "metadata": {},
   "outputs": [
    {
     "data": {
      "text/plain": [
       "200"
      ]
     },
     "execution_count": 2,
     "metadata": {},
     "output_type": "execute_result"
    }
   ],
   "source": [
    "url = \"http://www.esiee.fr/\"\n",
    "response = requests.get(url)\n",
    "response.status_code"
   ]
  },
  {
   "cell_type": "markdown",
   "metadata": {},
   "source": [
    "Il existe deux méthodes pour récupérer le contenu de la page :\n",
    "\n",
    "- `response.text` qui permet de retourner le texte sous la forme d'une chaine de charactères.\n",
    "- `response.content` qui permet de récupérer le contenu de la page sous la forme de bytes"
   ]
  },
  {
   "cell_type": "code",
   "execution_count": 3,
   "metadata": {},
   "outputs": [
    {
     "data": {
      "text/plain": [
       "bytes"
      ]
     },
     "execution_count": 3,
     "metadata": {},
     "output_type": "execute_result"
    }
   ],
   "source": [
    "type(response.content)"
   ]
  },
  {
   "cell_type": "code",
   "execution_count": 4,
   "metadata": {},
   "outputs": [
    {
     "data": {
      "text/plain": [
       "str"
      ]
     },
     "execution_count": 4,
     "metadata": {},
     "output_type": "execute_result"
    }
   ],
   "source": [
    "type(response.text)"
   ]
  },
  {
   "cell_type": "markdown",
   "metadata": {},
   "source": [
    "Pour récupérer les 1000 premiers charactères de la page :"
   ]
  },
  {
   "cell_type": "code",
   "execution_count": 5,
   "metadata": {},
   "outputs": [
    {
     "data": {
      "text/plain": [
       "'<!DOCTYPE html>\\r\\n<!--[if lt IE 7]>      <html class=\"no-js lt-ie9 lt-ie8 lt-ie7\"> <![endif]-->\\r\\n<!--[if IE 7]>         <html class=\"no-js lt-ie9 lt-ie8\"> <![endif]-->\\r\\n<!--[if IE 8]>         <html class=\"no-js lt-ie9\"> <![endif]-->\\r\\n<!--[if IE 9]>         <html class=\"no-js ie9\"> <![endif]-->\\r\\n<!--[if gt IE 9]><!--> <html class=\"no-js\"> <!--<![endif]-->\\r\\n<head profile=\"http://www.w3.org/1999/xhtml/vocab\">\\r\\n\\t<!-- Google Analytics -->\\r\\n\\t<script>\\r\\n\\t    <!-- Global site tag (gtag.js) - Google Analytics respecting DNT -->\\r\\n\\t    if ([true, 1, \\'1\\', \\'on\\', \\'yes\\'].indexOf(navigator.doNotTrack || window.doNotTrack || navigator.msDoNotTrack) === -1) {\\r\\n\\t        let gtagId=\\'UA-4033468-1\\', sc=document.createElement(\\'script\\');\\r\\n\\t        sc.async=true;\\r\\n\\t        sc.src=\\'https://www.googletagmanager.com/gtag/js?id=\\' + gtagId;\\r\\n\\t        document.head.appendChild(sc);\\r\\n\\t        \\r\\n\\t        window.dataLayer = window.dataLayer || [];\\r\\n\\t        function gtag(){dataLayer.push(arguments);}\\r\\n\\t        gtag(\\'js\\','"
      ]
     },
     "execution_count": 5,
     "metadata": {},
     "output_type": "execute_result"
    }
   ],
   "source": [
    "response.text[0:1000]"
   ]
  },
  {
   "cell_type": "markdown",
   "metadata": {},
   "source": [
    "Pour récupérer les headers HTTP de la réponse :"
   ]
  },
  {
   "cell_type": "code",
   "execution_count": 6,
   "metadata": {},
   "outputs": [
    {
     "data": {
      "text/plain": [
       "{'Date': 'Mon, 05 Dec 2022 09:23:17 GMT', 'Server': 'Apache', 'Expires': 'Sun, 19 Nov 1978 05:00:00 GMT', 'Cache-Control': 'no-cache, must-revalidate', 'X-Content-Type-Options': 'nosniff', 'Content-Language': 'fr', 'X-Frame-Options': 'SAMEORIGIN', 'Permissions-Policy': 'interest-cohort=()', 'X-Generator': 'Drupal 7 (http://drupal.org)', 'Vary': 'Accept-Encoding', 'Content-Encoding': 'gzip', 'Content-Length': '17887', 'Keep-Alive': 'timeout=5, max=150', 'Connection': 'Keep-Alive', 'Content-Type': 'text/html; charset=utf-8'}"
      ]
     },
     "execution_count": 6,
     "metadata": {},
     "output_type": "execute_result"
    }
   ],
   "source": [
    "response.headers"
   ]
  },
  {
   "cell_type": "markdown",
   "metadata": {},
   "source": [
    "On peut modifier les paramêtres de la requête et/ou ses headers. On peut par exemple ajouter un UserAgent et un timeout de 10 secondes:"
   ]
  },
  {
   "cell_type": "code",
   "execution_count": 7,
   "metadata": {
    "scrolled": true
   },
   "outputs": [
    {
     "data": {
      "text/plain": [
       "b'<!DOCTYPE html>\\r\\n<!--[if lt IE 7]>      <html class=\"no-js lt-ie9 lt-ie8 lt-ie7\"> <![endif]-->\\r\\n<!--[if IE 7]>         <html class=\"no-js lt-ie9 lt-ie8\"> <![endif]-->\\r\\n<!--[if IE 8]>         <html class=\"no-js lt-ie9\"> <![endif]-->\\r\\n<!--[if IE 9]>         <html class=\"no-js ie9\"> <![endif]-->\\r\\n<!--[if gt IE 9]><!--> <html class=\"no-js\"> <!--<![endif]-->\\r\\n<head profile=\"http://www.w3.org/1999/xhtml/vocab\">\\r\\n\\t<!-- Google Analytics -->\\r\\n\\t<script>\\r\\n\\t    <!-- Global site tag (gtag.js) - Google Analytics respecting DNT -->\\r\\n\\t    if ([true, 1, \\'1\\', \\'on\\', \\'yes\\'].indexOf(navigator.doNotTrack || window.doNotTrack || navigator.msDoNotTrack) === -1) {\\r\\n\\t        let gtagId=\\'UA-4033468-1\\', sc=document.createElement(\\'script\\');\\r\\n\\t        sc.async=true;\\r\\n\\t        sc.src=\\'https://www.googletagmanager.com/gtag/js?id=\\' + gtagId;\\r\\n\\t        document.head.appendChild(sc);\\r\\n\\t        \\r\\n\\t        window.dataLayer = window.dataLayer || [];\\r\\n\\t        function gtag(){dataLayer.push(arguments);}\\r\\n\\t        gtag(\\'js\\','"
      ]
     },
     "execution_count": 7,
     "metadata": {},
     "output_type": "execute_result"
    }
   ],
   "source": [
    "headers = {'User-Agent': 'Mozilla/5.0 (Macintosh; Intel Mac OS X 10_10_1) AppleWebKit/537.36 (KHTML, like Gecko) Chrome/39.0.2171.95 Safari/537.36'}\n",
    "response = requests.get(url, headers=headers, timeout = 10)\n",
    "response.content[0:1000]"
   ]
  },
  {
   "cell_type": "markdown",
   "metadata": {},
   "source": [
    "## Exercice"
   ]
  },
  {
   "cell_type": "markdown",
   "metadata": {},
   "source": [
    "## Exercice 1\n",
    "\n",
    "- Créer une classe Python permettant de faire des requêtes HTTP.\n",
    "- Cette classe doit utiliser toujours le même UserAgent.\n",
    "- Le TimeOut sera spécifié à chaque appelle avec une valeur par défaut.\n",
    "- Un mécanisme de retry sera mis en place de façon recursive.\n",
    "\n",
    "## Exercice 2\n",
    "\n",
    "- Faire une fonction permettant de supprimer tous les espaces supperflus d'une string\n",
    "- Faire une fonction qui prend une string html et renvois une string intelligible (enlever les caractères spéciaux,\n",
    "- Récupérer le domaine en fonction d'un url"
   ]
  },
  {
   "cell_type": "code",
   "execution_count": 17,
   "metadata": {
    "scrolled": false
   },
   "outputs": [],
   "source": [
    "# Exercice 1\n",
    "\n",
    "class Requete() :\n",
    "    def __init__(self):# constructeur\n",
    "        self.UserAgent = 'Mozilla/5.0 (Macintosh;Intel Mac OS X 10_10_1)'\\\n",
    "            'AppleWebKit/537.36 (KHTML, like Gecko)'\\\n",
    "            'Chrome/39.0.2171.95'\\\n",
    "            'Safari/537.36'\n",
    "        self.headers = {'User-Agent':self.UserAgent}\n",
    "        self.max_retries = 3\n",
    "    \n",
    "    def get(self, url : str, timeout : int, retries = 0):\n",
    "        if retries >=self.max_retries:\n",
    "            return f\"Request failed with {retries} retries\"\n",
    "        try :\n",
    "            return requests.get(url,timeout=timeout)\n",
    "        except Exception as exc:\n",
    "            retries+=1\n",
    "            return self.get(url, timeout, retries)\n",
    "    \n",
    "req = Requete()\n",
    "resp = req.get(\"http://www.esiee.fr/\",10)\n",
    "resp = resp.text"
   ]
  },
  {
   "cell_type": "code",
   "execution_count": 21,
   "metadata": {},
   "outputs": [
    {
     "name": "stdout",
     "output_type": "stream",
     "text": [
      "www.esiee.fr\n",
      "DOCTYPEhtmlifltIE7htmlclassnojsltie9ltie8ltie7endififIE7htmlclassnojsltie9ltie8endififIE8htmlclassnojsltie9endififIE9htmlclassnojsie9endififgtIE9htmlclassnojsendifheadprofilehttpwwww3org1999xhtmlvocabGoogleAnalyticsscriptGlobalsitetaggtagjsGoogleAnalyticsrespectingDNTiftrue11onyesindexOfnavigatordoNotTrackwindowdoNotTracknavigatormsDoNotTrack1letgtagIdUA40334681scdocumentcreateElementscriptscasynctruescsrchttpswwwgoogletagmanagercomgtagjsidgtagIddocumentheadappendChildscwindowdataLayerwindowdataLayerfunctiongtagdataLayerpushargumentsgtagjsnewDategtagconfiggtagIdscriptGoogleTagManagerscriptfunctionwdsliwlwlwlpushgtmstartnewDategetTimeeventgtmjsvarfdgetElementsByTagNames0jdcreateElementsdlldataLayerlljasynctruejsrchttpswwwgoogletagmanagercomgtmjsididlfparentNodeinsertBeforejfwindowdocumentscriptdataLayerGTMMQF5LJBscriptEndGoogleTagManagermetanamegooglesiteverificationcontentJnG7DTdhQuWTeSHlWC63CeWpb3WValiOorksYjoYOWImetahttpequivContentTypecontenttexthtmlcharsetutf8metanameGeneratorcontentDrupal7httpdrupalorgmetanamedescriptioncontentESIEEParislécoledelinnovationtechnologiqueGrandeécoledingénieursFormedanslesdomainesdestechnologiesdunumériqueHabilitéeCTIlinkrelshortcuticonhrefhttpswwwesieefrsitesallthemescustomesieethemefaviconicotypeimagevndmicrosofticontitleESIEEParislécoledelinnovationtechnologiqueGrandeécoledingénieursESIEEParistitlemetacontentwidthdevicewidthmaximumscale10userscalablenonameviewportlinktypetextcssrelstylesheethrefhttpswwwesieefrsitesdefaultfilescsscssxErWrJffncB6ztZfd2huxqgxu4WOqwma6Xer30m4cssmediaalllinktypetextcssrelstylesheethrefhttpswwwesieefrsitesdefaultfilescsscssaO8sl15mvWWW8ieZtVpMm6r3Cg9PWJdiIR2WweHAkcssmediaalllinktypetextcssrelstylesheethrefhttpswwwesieefrsitesdefaultfilescsscssQgumInWdopRq7VIyjTHEyng4fs7n4IIlY3Oix55C0YYcssmediaalllinktypetextcssrelstylesheethrefhttpswwwesieefrsitesdefaultfilescsscssqB9HuFBC3Uu5lKU9myRIzLHJn1ylWohfnhWrXg5hEQcssmediaalllinktypetextcssrelstylesheethrefhttpswwwesieefrsitesdefaultfilescsscssN2m8XERalJCCCzmYWb1LY7y1R6M2JJcg9uQKPdzf8cssmediaprintscripttypetextjavascriptsrchttpswwwesieefrsitesdefaultfilesjsjsgsRojzcXYRtFv8QHp89dxyJVklpAK8YiSqSpCQgUdakjsscriptheadbodyclasshtmlfrontnotloggedinonesidebarsidebarfirstpageesieehomepagei18nfrpagehomeGoogleTagManagernoscriptnoscriptiframesrchttpswwwgoogletagmanagercomnshtmlidGTMMQF5LJBheight0width0styledisplaynonevisibilityhiddeniframenoscriptEndGoogleTagManagernoscriptdivclasstoolbardivclassformobiledividblockesieeesieeheadersearch2classblockblockesieeformclassformhorizontalfleftidformsearchonsubmitifthiskeywordvaluequotRechercherquotthiskeywordvaluequotquotactionmethodpostacceptcharsetUTF8divinputclassformcontrolformtextformcontrolonfocusifthisvaluequotRechercherquotthisvaluequotquotonblurifthisvaluequotquotthisvaluequotRechercherquottypetextideditkeyword2namekeywordvalueRecherchersize60maxlength128inputtypesubmitideditsubmit3nameopvalueclassformsubmitinputtypehiddennameformbuildidvalueformfAD4ZAilZfDTJA4ZIG6tP9CI7KyQZHQiWtpX3BMLIinputtypehiddennameformidvalueesieeglobalsearchformdivformdivdivulliclassparametersahreficlassiconparametresiadivclassparameterstoolsdivclassparameterstoolsinnerpclasstitleLesoutilsESIEEParispulliatargetblanktitleWebmailESIEEParishrefhttpsgmailcomiimgaltsrchttpswwwesieefrsitesdefaultfilesmenuiconsmenuicon950pngispanWebmailESIEEParisspanaliliatargetblanktitleEmploidutempsgénéralhrefhttpsplanifesieefrdirectiimgaltsrchttpswwwesieefrsitesdefaultfilesmenuiconsmenuicon1331pngispanEmploidutempsgénéralspanaliliatargetblanktitleEmploidutempsindividuelhrefhttpsplanifesieefrjspcustomesieeeasyMyPlanningjspiimgaltsrchttpswwwesieefrsitesdefaultfilesmenuiconsmenuicon1332pngispanEmploidutempsindividuelspanaliliatargetblanktitleExtranethrefhttpsintraesieefriimgaltsrchttpswwwesieefrsitesdefaultfilesmenuiconsmenuicon951pngispanExtranetspanaliliatargetblanktitleiCampusBlackboardhrefhttpsblackboardesieefriimgaltsrchttpswwwesieefrsitesdefaultfilesmenuiconsmenuicon1311pngispaniCampusBlackboardspanaliliclasslastatargetblanktitleMicrosoftDreamSparkhrefhttpe5onthehubcomWebStoreWelcomeaspxvsro8ws45AD823E799BE011969D0030487D8897JSEnabled1iimgaltsrchttpswwwesieefrsitesdefaultfilesmenuiconsmenuicon1696pngispanMicrosoftDreamSparkspanaliuldivdivliliahrefeniimgaltEnglishsrcsitesallthemescustomesieethemeassetsimagesflagenpngialiliclasshidemobileahrefhttpswwwfacebookcomesieeparistargetblankiclassfafafacebookialiliclasshidemobileahrefhttpstwittercomESIEEPARIStargetblankiclassfafatwitterialiliclasshidemobileahrefhttpswwwlinkedincomeduschoolid20041trktyahtrkInfoidx3A4142CtarId3A14259985613862Ctas3AesieeparistargetblankiclassfafalinkedinialiliclasshidemobileyoutubeahrefhttpwwwyoutubecomesieeparistargetblankiclassfafayoutubeialiliclasshidemobileahrefhttpswwwinstagramcomesieeparistargetblankiclassfafainstagramialiliclassformobilesocialnetworksahreftoolbarfooteriimgaltRéseauxsociauxsrcsitesallthemescustomesieethemeassetsimagesiconsocialnetworkspngialiuldivdivclasslpageheaderdivclassinnerclearfixdivclasslogofleftahreffrtitlePagedaccueilimgsrchttpswwwesieefrsitesallthemescustomesieethemelogopngaltESIEEParisadivdivclassmenuahreftitleclassbtnmenujsbtnmenuspanclassfafareorderspanmenuaulliclassformationslev0classwithlevelahrefhttpswwwesieefrfrformationsid851classjslinklev0Formationsadivclasssubmenulev1jsleveljslevel1divclasssubmenuinnerahreftitleclasslinkbackjslinkback0linkbackmobRETOURmenuaulliahrefhttpswwwesieefrfrformationsFormationsESIEEParisaliliclasswithlevelahrefid880classjslinklevIngénieuradivclasslev2jsleveldivclasssubmenuinnerpclasstitleIngénieurpahreftitleclasslinkbackjslinkbackRETOURFormationsaulliahrefhttpswwwesieefrfrformationsingenieuringenieuresieeparisIngénieurESIEEParisaliliahrefhttpswwwesieefrfrformationsingenieurpremiercyclePremiercyclealiliclasswithlevelahrefid881classjslinklevLecycleingénieuradivclasslev3jsleveldivclasssubmenuinnerpclasstitleLecycleingénieurpahreftitleclasslinkbackjslinkbackRETOURIngénieuraulliahrefhttpswwwesieefrfrformationsingenieurcycleingenieurLecycleingénieurESIEEParisaliliahrefhttpswwwesieefrfrformationsingenieurcycleingenieurenseignementspremiereanneeEnseignementsde1reannéealiliahrefhttpswwwesieefrfrformationsingenieurcycleingenieurenseignementsdeuxiemetroisiemeanneeEnseignementsde2eet3eannéealiliahrefhttpswwwesieefrfrformationsingenieurcycleingenieurprofilsmetiersProfilsmétiersaliuldivdivliliclasswithlevelahrefid886classjslinklevFilièresadivclasslev3jsleveldivclasssubmenuinnerpclasstitleFilièrespahreftitleclasslinkbackjslinkbackRETOURIngénieuraulliahrefhttpswwwesieefrfrformationsingenieurfilieres9filières1diplômealiliahrefhttpswwwesieefrfrformationsingenieurfilieresinformatiqueInformatiquealiliahrefhttpswwwesieefrfrformationsingenieurfilierescybersecuriteCybersécuritéaliliahrefhttpswwwesieefrfrformationsingenieurfilieresdatascienceintelligenceartificielleDatascienceetintelligenceartificiellealiliahrefhttpswwwesieefrfrformationsingenieurfilieresartificialintelligencecybersecurityArtificialIntelligenceandCybersecurityaliliahrefhttpswwwesieefrfrformationsingenieurfilieressystemesembarquesSystèmesembarquésaliliahrefhttpswwwesieefrfrformationsingenieurfilieressystemeselectroniquesSystèmesélectroniquesintelligentsaliliahrefhttpswwwesieefrfrformationsingenieurfilieresgenieindustrielGénieindustrielaliliahrefhttpswwwesieefrfrformationsingenieurfilieresbiotechnologiesesanteBiotechnologiesetesantéaliliahrefhttpswwwesieefrfrformationsingenieurfilieresenergieEnergiealiuldivdivliliahrefhttpswwwesieefrfrformationsingenieurdoublesdiplomesDoublesdiplômesaliliahrefhttpswwwesieefrfrformationsingenieuremploisetsalairesEmploisetsalairesaliliahrefhttpswwwesieefrfrformationsingenieurfraisscolaritesaidesfinancieresFraisdescolaritéAidesfinancièresaliliahrefhttpswwwesieefrfrformationsingenieurstagesStagesaliliahrefhttpswwwesieefrfrformationsingenieuradmissionIngenieurAdmissionsaliliahrefhttpswwwesieefrfrcontactingC3A9nieurContactaliuldivdivliliclasswithlevelahrefid893classjslinklevIngénieurparapprentissageadivclasslev2jsleveldivclasssubmenuinnerpclasstitleIngénieurparapprentissagepahreftitleclasslinkbackjslinkbackRETOURFormationsaulliahrefhttpswwwesieefrfrformationsingenieurparapprentissageDeveniringénieurparl039apprentissagealiliahrefhttpswwwesieefrfrformationsingenieurparapprentissagereseauxsecuriteRéseauxetsécuritéaliliahrefhttpswwwesieefrfrformationsingenieurparapprentissageinformatiqueetapplicationsInformatiqueetapplicationsaliliahrefhttpswwwesieefrfrformationsingenieurparapprentissagesystemesembarquesSystèmesembarquésaliliahrefhttpswwwesieefrfrformationsingenieurparapprentissagegenieindustrielGénieindustrielaliliahrefhttpswwwesieefrfrformationsingenieurparapprentissageenergiesEnergiesaliliahrefhttpswwwesieefrfrformationsingenieurparapprentissagemodeemploiApprentissagemoded039emploialiliahrefhttpswwwesieefrfradmissionIngenieurparapprentissageAdmissionsaliliahrefhttpswwwesieefrfrcontactingC3A9nieurparapprentissageContactaliuldivdivliliclasswithlevelahrefid5477classjslinklevBacheloradivclasslev2jsleveldivclasssubmenuinnerpclasstitleBachelorpahreftitleclasslinkbackjslinkbackRETOURFormationsaulliahrefhttpswwwesieefrfrformationsbachelorBachelorBESTmaliliahrefhttpswwwesieefrfrformationsbachelorpoursuitesetudesmetiersPoursuitesd039étudesMétiersaliliahrefhttpswwwesieefrfradmissionBachelorAdmissionsaliuldivdivliliclasswithlevelahrefid894classjslinklevProgrammesinternationauxadivclasslev2jsleveldivclasssubmenuinnerpclasstitleProgrammesinternationauxpahreftitleclasslinkbackjslinkbackRETOURFormationsaulliahrefhttpswwwesieefrfrformationsprogrammesinternationauxProgrammesinternationauxaliliahrefhttpswwwesieefrfrformationsprogrammesinternationauxmasterartificialintelligencecybersecurityMasterinArtificialIntelligenceandCybersecurityaliliahrefhttpswwwesieefrfrformationsprogrammesinternationauxmastersmartelectronicsystemsMasterinSmartElectronicSystemsInternationaltrackaliliahrefhttpswwwesieefrfrformationsprogrammesinternationauxmscmanagementinformationsystemsMScManagementofTechnologyInformationSystemsaliliahrefhttpswwwesieefrfrcontactprogrammesinternationauxContactaliuldivdivliliclasswithlevelahrefid5671classjslinklevFormationcontinueadivclasslev2jsleveldivclasssubmenuinnerpclasstitleFormationcontinuepahreftitleclasslinkbackjslinkbackRETOURFormationsaulliahrefhttpswwwesieefrfrformationsformationcontinueFormationcontinuealiliclasswithlevelahrefid5674classjslinklevCybersécuritéadivclasslev3jsleveldivclasssubmenuinnerpclasstitleCybersécuritépahreftitleclasslinkbackjslinkbackRETOURFormationcontinueaulliahrefhttpswwwesieefrfrformationsformationcontinueprogrammescourtscybersecuriteinitiationsystemesinformation2InitiationauxsystèmesdinformationaliliahrefhttpswwwesieefrfrformationsformationcontinueprogrammescourtscybersecuriteinitiationimplementationerpInitiationetimplémentationdesERPaliliahrefhttpswwwesieefrfrformationsformationcontinueprogrammescourtscybersecuriteinitiationsecuritewebvulnerabilitesInitiationàlasécuritéwebetsesvulnérabilitésaliliahrefhttpswwwesieefrfrformationsformationcontinueprogrammescourtscybersecuritesecuritesystemesreseauxavanceSécuritédessystèmesetdesréseauxniveauavancéaliliahrefhttpswwwesieefrfrformationsformationcontinueprogrammescourtscybersecuritesecuritesystemesreseauxexpertSécuritédessystèmesetdesréseauxniveauexpertaliliahrefhttpswwwesieefrfrformationsformationcontinueprogrammescourtscybersecuritedecouvertecryptographieDécouvertedelacryptographiealiliahrefhttpswwwesieefrfrformationsformationcontinueprogrammescourtscybersecuritedetectionintrusionincidentssecuriteDétectionintrusionsgestiondesincidentsdesécuritéaliliahrefhttpswwwesieefrfrformationsformationcontinueprogrammescourtscybersecuritesensibilisationnormesisorgpdcnilSensibilisationauxNormesIsoetauRGPDdelaCNILaliliahrefhttpswwwesieefrfrformationsformationcontinueprogrammescourtscybersecuriteauditsystemesinformationreseauxAuditdesSIetréseauxaliuldivdivliliclasswithlevelahrefid5675classjslinklevSalleblancheadivclasslev3jsleveldivclasssubmenuinnerpclasstitleSalleblanchepahreftitleclasslinkbackjslinkbackRETOURFormationcontinueaulliahrefhttpswwwesieefrfrformationsformationcontinueprogrammessallesblanchesdecouvertetechnologiesDécouvertedestechnologiesdesalleblanchealiliahrefhttpswwwesieefrfrformationsformationcontinueprogrammescourtssallesblanchesinitiationtechnologiesmicrofabricationInitiationauxtechnologiesdemicrofabricationaliuldivdivliliahrefhttpswwwesieefrfrformationsformationcontinuefoireauxquestionsFAQaliliahrefhttpswwwesieefrfrcontactformationcontinueContactaliuldivdivliuldivdivliliclassespaceetudiantslev0classwithlevelahrefid852classjslinklev0Espaceétudiantsadivclasssubmenulev1jsleveljslevel1divclasssubmenuinnerahreftitleclasslinkbackjslinkback0linkbackmobRETOURmenuaulliahrefhttpswwwesieefrfrespaceetudiantsvieetudianteLavieétudiantealiliclasswithlevelahrefid1409classjslinklevLassociatifadivclasslev2jsleveldivclasssubmenuinnerpclasstitleLassociatifpahreftitleclasslinkbackjslinkbackRETOUREspaceétudiantsaulliahrefhttpswwwesieefrfrespaceetudiantsassociatifbureaudeselevesBureaudesélèvesaliliahrefhttpswwwesieefrfrespaceetudiantsassociatifjunioresieeJuniorESIEEaliliahrefhttpswwwesieefrfrespaceetudiantsassociatifclubsassociationsClubsetassociationsaliuldivdivliliahrefhttpswwwesieefrfrespaceetudiantsamenagementsetudesAménagementsd039étudesaliliahrefhttpswwwesieefrfrespaceetudiantsTIinnovationgatewayBibliothèque40aliliahrefhttpswwwesieefrfrespaceetudiantslogementsLogementsaliliahrefhttpswwwesieefrfrespaceetudiantssportSportaliliahrefhttpswwwesieefrfrespaceetudiantscampusdescartesCampusDescartesaliliahrefhttpswwwesieefrfrespaceetudiantsrelaishandicapRelaishandicapaliliclasswithlevelahrefid1423classjslinklevEquipementsadivclasslev2jsleveldivclasssubmenuinnerpclasstitleEquipementspahreftitleclasslinkbackjslinkbackRETOUREspaceétudiantsaulliahrefhttpswwwesieefrfrespaceetudiantsequipementscentredelanguesLecentredelanguesaliliahrefhttpswwwesieefrfrespaceetudiantsequipementsinformatiqueLaboratoiresaliliahrefhttpswwwesieefrfrespaceetudiantsequipementsordinateursportablesOrdinateursportablesaliuldivdivliliahrefhttpswwwesieefrfrespaceetudiantsressourcesnumeriquesRessourcesnumériquesaliliahrefhttpswwwesieefrfrespaceetudiantsfinancervosetudesFinancervosétudesaliliahrefhttpswwwesieefrfrvideothequeVidéothèquealiliahrefhttpswwwesieefrfrespaceetudiantrestaurationRestaurationaliliahrefhttpswwwesieefrfrespaceetudiantsbibliothequeNouvelespacedetravailaliliclasswithlevelahrefid7464classjslinklevFormalitésadministrativesadivclasslev2jsleveldivclasssubmenuinnerpclasstitleFormalitésadministrativespahreftitleclasslinkbackjslinkbackRETOUREspaceétudiantsaulliahrefhttpswwwesieefrfrformalitesaccueilAccueilformalitésadministrativesderentréealiliahrefhttpswwwesieefrfrformalitesvoletfinancierVoletfinancieraliliahrefhttpswwwesieefrfrformalitessecuritesocialeSécuritéSocialealiliahrefhttpswwwesieefrfrformalitessecuritesocialeapprentisSécuritéSocialeApprentisaliliahrefhttpswwwesieefrfrformalitesassurancesAssurancesaliliahrefhttpswwwesieefrfrformalitescvecCVECaliliahrefhttpswwwesieefrfrformalitesreglementsRèglementsaliliahrefhttpswwwesieefrfrformalitessportsServicedessportsaliliahrefhttpswwwesieefrfradministrativeregistrationprocedureinternationalstudentsInternationalstudentsaliliclasswithlevelahrefid7466classjslinklevVieassociativeadivclasslev3jsleveldivclasssubmenuinnerpclasstitleVieassociativepahreftitleclasslinkbackjslinkbackRETOURFormalitésadministrativesaulliahrefhttpswwwesieefrfrformalitesbdsAssociationsportiveBureaudessportsaliliahrefhttpswwwesieefrfrformalitesbdeBDEESIEEParisaliliahrefhttpswwwesieefrfrformalitesjuniorentrepriseJuniorESIEEaliliahrefhttpswwwesieefrfrformalitesesieespaceESIEESPACEaliuldivdivliuldivdivliuldivdivliliclassecolelev0classwithlevelahrefid1382classjslinklev0Lécoleadivclasssubmenulev1jsleveljslevel1divclasssubmenuinnerahreftitleclasslinkbackjslinkback0linkbackmobRETOURmenuaulliahrefhttpswwwesieefrfrecolequisommesnousQuisommesnousaliliahrefhttpswwwesieefrfrgouvernanceGouvernancealiliclasswithlevelahrefid1482classjslinklevLesdépartementsdenseignementsetderechercheadivclasslev2jsleveldivclasssubmenuinnerpclasstitleLesdépartementsdenseignementsetderecherchepahreftitleclasslinkbackjslinkbackRETOURLécoleaulliahrefhttpswwwesieefrfrecoledepartementsenseignants4departements4départementsaliliahrefhttpswwwesieefrfrecoledepartementsenseignementsinformatiqueInformatiquealiliahrefhttpswwwesieefrfrecoledepartementsenseignementsingenieriesystemesIngénieriedessystèmesaliliahrefhttpswwwesieefrfrecoledepartementsenseignementssanteenergieenvironnementSantéénergieenvironnementaliliahrefhttpswwwesieefrfrecoledepartementsenseignementsmanagementtechnologieslanguesManagementdelatechnologieetlanguesaliuldivdivliliahrefhttpswwwesieefrfrecoleconseilscientifiqueConseilScientifiquealiliclasswithlevelahrefid1550classjslinklevLessallesblanchesadivclasslev2jsleveldivclasssubmenuinnerpclasstitleLessallesblanchespahreftitleclasslinkbackjslinkbackRETOURLécoleaulliahrefhttpswwwesieefrfrecolesallesblanchesLessallesblanchesaliliahrefhttpswwwesieefrfrecolesallesblanchesequipementsetprocedesÉquipementsetProcédésaliliahrefhttpswwwesieefrfrecolesallesblanchesformationFormationaliliahrefhttpswwwesieefrfrecolesallesblanchesrechercheRecherchealiliahrefhttpswwwesieefrfrecolesallesblanchescollaborationsindutriellesCollaborationsindustriellesaliliahrefhttpswwwesieefrfrecolesallesblanchesequipeEquipealiliahrefhttpswwwesieefrfrcontactsallesblanchesContactaliuldivdivliliclasswithlevelahrefid1365classjslinklevCorpsenseignantadivclasslev2jsleveldivclasssubmenuinnerpclasstitleCorpsenseignantpahreftitleclasslinkbackjslinkbackRETOURLécoleaulliahrefhttpswwwesieefrfrecolelesenseignantschercheursLesenseignantschercheursaliliahrefhttpswwwesieefrfrecolecorpsenseignantcvcorpsprofessoralCVducorpsprofessoralaliuldivdivliliahrefhttpswwwesieefrfrecolecorpsenseignantenseigneraesieeparisESIEEParisrecrutealiliahrefhttpswwwesieefrfrwebserieyannlecunprixturingWebserieYannLeCunetESIEEParisaliliahrefhttpswwwesieefrfrecolevisitevirtuelleVisitevirtuelleESIEEParisaliliahrefhttpswwwesieefrfresieeldapdirectoryAnnuairealiuldivdivliliclassrecherchelev0classwithlevelahrefid854classjslinklev0Larechercheadivclasssubmenulev1jsleveljslevel1divclasssubmenuinnerahreftitleclasslinkbackjslinkback0linkbackmobRETOURmenuaulliahrefhttpswwwesieefrfrlarechercheAccueilaliliclasswithlevelahrefid1573classjslinklev3axesderechercheadivclasslev2jsleveldivclasssubmenuinnerpclasstitle3axesderecherchepahreftitleclasslinkbackjslinkbackRETOURLarechercheaulliahrefhttpswwwesieefrfrlarechercheaxesrecherche3axesderecherchealiliahrefhttpswwwesieefrfrlarechercheaxesrecherchevilledurableVilledurablealiliahrefhttpswwwesieefrfrlarechercheaxesrecherchesanteSantéaliliahrefhttpswwwesieefrfrlarechercheaxesrechercheinnovationsocieteInnovationampsociétéaliuldivdivliliclasswithlevelahrefid1563classjslinklevLaboratoiresadivclasslev2jsleveldivclasssubmenuinnerpclasstitleLaboratoirespahreftitleclasslinkbackjslinkbackRETOURLarechercheaulliahrefhttpswwwesieefrfrlarecherchelaboratoirespartenairesLaboratoirespartenairesaliliahrefhttpswwwesieefrfrlarecherchelaboratoiresassociesLaboratoiresassociésaliuldivdivliliclasswithlevelahrefid5485classjslinklevSeformeràlarechercheadivclasslev2jsleveldivclasssubmenuinnerpclasstitleSeformeràlarecherchepahreftitleclasslinkbackjslinkbackRETOURLarechercheaulliahrefhttpswwwesieefrfrlarechercheseformerrechercheecolesdoctoralesEcolesdoctoralesaliliahrefhttpswwwesieefrfrlarechercheseformerrecherchemastersrechercheMastersRecherchealiuldivdivliliahrefhttpswwwesieefrfrlarecherchepartenariatsentreprisePartenariatsentreprisealiliahrefhttpswwwesieefrfrlarechercheequipementsPlateformesetéquipementsaliliclasswithlevelahrefid5491classjslinklevPublicationsadivclasslev2jsleveldivclasssubmenuinnerpclasstitlePublicationspahreftitleclasslinkbackjslinkbackRETOURLarechercheaulliahrefhttpswwwesieefrfrlarecherchepublicationshalesieeHalESIEEaliliahrefhttpswwwesieefrfrlarecherchepublicationsesieeparis12moisPublicationsdes12derniersmoisaliliahrefhttpswwwesieefrfrlarecherchepublicationsesieePublications20172018aliliahrefhttpswwwesieefrfrrecherchepublicationsPublicationsavant2016aliuldivdivliliahrefhttpswwwesieefrfrcontactrechercheInformationsetcontactaliuldivdivliliclassentrepriseslev0classwithlevelahrefid855classjslinklev0Entreprisesadivclasssubmenulev1jsleveljslevel1divclasssubmenuinnerahreftitleclasslinkbackjslinkback0linkbackmobRETOURmenuaulliclasswithlevelahrefhttpswwwesieefrfrentreprisesid2539classjslinklevLentreprisepartenaireadivclasslev2jsleveldivclasssubmenuinnerpclasstitleLentreprisepartenairepahreftitleclasslinkbackjslinkbackRETOUREntreprisesaulliahrefhttpswwwesieefrfrentreprisesL039entreprisepartenairealiliahrefhttpswwwesieefrfrentreprisesentreprisespartenaireselaborezunechaireenseignementElaborezunechaired039enseignementetderecherchealiliahrefhttpswwwesieefrfrentreprisesentreprisespartenairesdevenezparraindepromotionDevenezparraindepromotionaliliahrefhttpswwwesieefrfrentreprisesdeposezoffresemploistageapprentissageDéposezuneoffred039emploidestageetd039apprentissagealiliahrefhttpswwwesieefrfrcontactentreprisesContacteznousaliuldivdivliliclasswithlevelahrefid1397classjslinklevRecruteznosétudiantsadivclasslev2jsleveldivclasssubmenuinnerpclasstitleRecruteznosétudiantspahreftitleclasslinkbackjslinkbackRETOUREntreprisesaulliahrefhttpswwwesieefrfrentreprisesrecruteznosetudiantsaccueillezunstagiaireAccueillezunstagiairealiliahrefhttpswwwesieefrfrentreprisesrecruteznosetudiantsrecrutezunapprentiRecrutezunapprentialiliahrefhttpswwwesieefrfrentreprisesrecruteznosetudiantsevenementsecoleentreprisesParticipezauxévénementsécoleentreprisesaliliahrefhttpswwwesieefrfrentreprisesrecruteznosetudiantsconsultezenqueteemploiConsultezl039enquêteemploialiliahrefhttpswwwesieefrfrentreprisesrecruteznosetudiantscontactezlesalumniContactezlesalumnialiliahrefhttpswwwesieefrfrentreprisesdeposezoffresemploistageapprentissageDéposezuneoffred039emploidestageetd039apprentissagealiuldivdivliliahrefhttpswwwesieefrfrformationsformationcontinueFormezvoscollaborateursaliliclasswithlevelahrefid1406classjslinklevDéveloppezvosprojetstechnologiquesadivclasslev2jsleveldivclasssubmenuinnerpclasstitleDéveloppezvosprojetstechnologiquespahreftitleclasslinkbackjslinkbackRETOUREntreprisesaulliahrefhttpswwwesieefrfrentreprisesdeveloppezvosprojetstechnologiquesutiliseznosplateformestechnologiquesUtiliseznosplateformestechnologiquesaliliahrefhttpswwwesieefrfrentreprisesdeveloppezvosprojetstechnologiquesrechercheetdeveloppementCollaborezaveclaRampDdeESIEEParisaliliahrefhttpswwwesieefrfrcontactentreprisesContacteznousaliuldivdivliliclasswithlevelahrefid4360classjslinklevSouteneznosprojetsadivclasslev2jsleveldivclasssubmenuinnerpclasstitleSouteneznosprojetspahreftitleclasslinkbackjslinkbackRETOUREntreprisesaulliahrefhttpswwwesieefrfrentreprisessouteneznosprojetsversezvotretaxeapprentissageVersezvotretaxed039apprentissagealiliahrefhttpswwwesieefrfrentreprisessouteneznosprojetsdevenezmeceneDevenezmécènealiliahrefhttpswwwesieefrfrentreprisessouteneznosprojetsinvestissementspedagogiquesInvestissezdansl039équipementpédagogiquealiliahrefhttpswwwesieefrfrentreprisessouteneznosprojetssoutenezlarechercheSoutenezlarecherchealiliahrefhttpswwwesieefrfrcontactentreprisesContacteznousaliuldivdivliliahrefhttpswwwesieefrfrlocationdespacesLoueznosespacesaliliahrefhttpswwwesieefrfrentreprisesdeposezoffresemploistageapprentissageDéposezuneoffred039emploidestageetd039apprentissagealiliahrefhttpswwwesieefrfrcontactentreprisesUnequestionContacteznousaliuldivdivliliclasslastinternationallev0classwithlevelahrefid856classjslinklev0Internationaladivclasssubmenulev1jsleveljslevel1divclasssubmenuinnerahreftitleclasslinkbackjslinkback0linkbackmobRETOURmenuaulliahrefhttpswwwesieefrfrinternationallargeouvertureUnelargeouvertureàl039internationalaliliahrefhttpswwwesieefrfrinternationalpartenairesacademiquesPartenairesacadémiquesaliliahrefhttpswwwesieefrfrinternationaletudieraletrangerEtudieràl039étrangeraliliahrefhttpswwwesieefrfrinternationalerasmusErasmusaliliahrefhttpswwwesieefrfrinternationalaccueiletudiantsenechangesEtudiantsenéchangealiliahrefhttpswwwesieefrfrinternationalveniretudieraesieeparisVenirétudieràESIEEParisaliliahrefhttpswwwesieefrfrformationsprogrammesinternationauxProgrammesinternationauxaliliahrefhttpswwwesieefrfrinternationalcampusaletrangerfsatiCampusàl039étrangeraliliahrefhttpswwwesieefrfrinternationallesdiplomesLesdiplômésàl039internationalaliliahrefhttpswwwesieefrfrcontactinternationalContactaliuldivdivliuldivdividblockesieeesieeheadersearchclassblockblockesieeformclassformhorizontalfleftidformsearchonsubmitifthiskeywordvaluequotRechercherquotthiskeywordvaluequotquotactionmethodpostacceptcharsetUTF8divinputclassformcontrolformtextformcontrolonfocusifthisvaluequotRechercherquotthisvaluequotquotonblurifthisvaluequotquotthisvaluequotRechercherquottypetextideditkeywordnamekeywordvalueRecherchersize60maxlength128inputtypesubmitideditsubmit2nameopvalueclassformsubmitinputtypehiddennameformbuildidvalueformV73w2jJcS9Ofj8f1ewMUiAKWAADrLIz1vfkqXXXYOMinputtypehiddennameformidvalueesieeglobalsearchformdivformdivdivheadersectionclassclearfixlmainsectionclasslcontenttopsectiondivclasstabsinnerdivdividblocksystemmainclassblockblocksystemdivclassinnerdivclassblocktabsclearfixulclassbxslidertabsliclassdivclasstabbackgrounddivclassimageimgsrchttpswwwesieefrsitesdefaultfilesthumbnailsimagehomebandeau1apngwidth1018height344altDécoration1titleDécoration1divdivdivclasstabcontentdivclassblocktabstitleIngénieurdivdivclassblocktabsbuttonsclearfixpaclassbtnbtndefaulthreffrformationsingenieuringenieuresieeparisDécouvrirlaformationappaclassbtnbtndefaulthreffrformationsingenieurfilieresFilièresetmétiersappaclassbtnbtndefaulthreffrformationsingenieuremploisetsalairesEmploisetsalairesappaclassbtnbtndefaultbtnorangehreffrformationsingenieuradmissionIngenieurAdmissionsampinscriptionsapdivdivliliclassdivclasstabbackgrounddivclassimageimgsrchttpswwwesieefrsitesdefaultfilesthumbnailsimagehomebandeau2apngwidth1018height344altDécoration2titleDécoration2divdivdivclasstabcontentdivclassblocktabstitleIngénieurparapprentissagedivdivclassblocktabsbuttonsclearfixpahreffrformationsingenieurparapprentissagespanclassbtnbtndefaultDécouvrirlaformationspanappaclassbtnbtndefaulthreffrformationsingenieuremploisetsalairesEmploisetsalairesappaclassbtnbtndefaulthreffrformationsingenieurparapprentissagemodeemploiApprentissagemoded39emploiappaclassbtnbtndefaultbtnorangehreffradmissionIngenieurparapprentissageAdmissionsampinscriptionsapdivdivliliclassdivclasstabbackgrounddivclassimageimgsrchttpswwwesieefrsitesdefaultfilesthumbnailsimagehomebandeau3apngwidth1018height343altDécoration3titleDécoration3divdivdivclasstabcontentdivclassblocktabstitleBachelordivdivclassblocktabsbuttonsclearfixpaclassbtnbtndefaulthreffrformationsbachelorDécouvrirlaformationappaclassbtnbtndefaulthreffrformationsbachelorpoursuitesetudesmetiersPoursuitesd39étudesetmétiersappaclassbtnbtndefaultbtnorangehreffradmissionBachelorAdmissionsapdivdivliliclassdivclasstabbackgrounddivclassimageimgsrchttpswwwesieefrsitesdefaultfilesthumbnailsimagehomebandeau4apngwidth1018height343altDécoration4titleDécoration4divdivdivclasstabcontentdivclassblocktabstitleProgrammesinternationauxdivdivclassblocktabsbuttonsclearfixpaclassbtnbtndefaulthreffrformationsmastersinternationauxDécouvrirlaformationappaclassbtnbtndefaultbtnorangehrefenprogrammesinternationalmastershowtoapplyAdmissionsampinscriptionsapdivdivliululidbxsliderpagerclassclearfixliclassisuppercaseisunderlinedblocktabsnavtitleFormationsliliadataslideindex0hrefIngénieuraliliadataslideindex1hrefIngénieurparapprentissagealiliadataslideindex2hrefBacheloraliliadataslideindex3hrefProgrammesinternationauxaliuldivdivclassblocktabsformobileportraitdivclassisuppercaseblocktabsnavtitleFormationsdivullidivclasstabbackgrounddivclassimageimgsrchttpswwwesieefrsitesdefaultfilesthumbnailsimagehomebandeau1apngwidth1018height344altDécoration1titleDécoration1divdivdivclasstabcontentahrefformationsingenieuringenieuresieeparisclassblocktabslinkiclassfafachevronrightiadivclassblocktabstitleIngénieurdivdivlilidivclasstabbackgrounddivclassimageimgsrchttpswwwesieefrsitesdefaultfilesthumbnailsimagehomebandeau2apngwidth1018height344altDécoration2titleDécoration2divdivdivclasstabcontentahrefformationsingenieurparapprentissageclassblocktabslinkiclassfafachevronrightiadivclassblocktabstitleIngénieurparapprentissagedivdivlilidivclasstabbackgrounddivclassimageimgsrchttpswwwesieefrsitesdefaultfilesthumbnailsimagehomebandeau3apngwidth1018height343altDécoration3titleDécoration3divdivdivclasstabcontentahrefhttpswwwesieefrfrformationsbachelorclassblocktabslinkiclassfafachevronrightiadivclassblocktabstitleBachelordivdivlilidivclasstabbackgrounddivclassimageimgsrchttpswwwesieefrsitesdefaultfilesthumbnailsimagehomebandeau4apngwidth1018height343altDécoration4titleDécoration4divdivdivclasstabcontentahrefformationsprogrammesinternationauxclassblocktabslinkiclassfafachevronrightiadivclassblocktabstitleProgrammesinternationauxdivdivliuldivdivclasspanelseparatordivdivclasspullrightrsslinkatitleRSShreffrrssnewsiclassfafarsssquareiadivdivclasspagetitleinlineh2Actualitésh2divahreffresieesearchnewshomeclasslinkmoreLireplusd039actualitésadivclassresponsiveslidernewsdivclassslideslidecontentspanclassslidecontentdateinlineblockspanclassdatedisplaysingle28092022spanspanspanclassslidecontentthemeinlineblockisuppercasePortesouvertesspandivclassclearfixdivdivclassslidecontentimgpullleftscald3528newsthumbnailimgsrchttpswwwesieefrsitesdefaultfilesstylesnewspublicthumbnailsimagejourneeporteouvertepngitokit4UhmEwidth120height90altJournéeportesouvertestitlePortesouverteslesamedi10décembre2022ENDscald3528divspanclassslidecontenttitleahreffractualitesesieeparisvousouvresesporteslesamedi10decembre2022classisuppercaseESIEEParisvousouvresesporteslesamedi10décembre2022aspandivclassclearfixdivpclassslidecontentdescDe13hà18hvenezdécouvrirnotreécolepdivdivclassslideslidecontentspanclassslidecontentdateinlineblockspanclassdatedisplaysingle16112022spanspanspanclassslidecontentthemeinlineblockisuppercaseActualitésspandivclassclearfixdivdivclassslidecontentimgpullleftscald3611newsthumbnailimgsrchttpswwwesieefrsitesdefaultfilesstylesnewspublicthumbnailsimagevirtualexchanges2022pngitok9gU3JRwidth120height90altéchangesentrelesélèvestitleUnprogrammederencontresculturellesàESIEEParisENDscald3611divspanclassslidecontenttitleahreffractualitesunprogrammederencontresculturellesaesieeparisclassisuppercaseUnprogrammederencontresculturellesàESIEEParisaspandivclassclearfixdivpclassslidecontentdescRetoursurlajournéedu7novembrepdivdivclassslideslidecontentspanclassslidecontentdateinlineblockspanclassdatedisplaysingle21102022spanspanspanclassslidecontentthemeinlineblockisuppercaseAdmissionsspandivclassclearfixdivdivclassslidecontentimgpullleftscald3585newsthumbnailimgsrchttpswwwesieefrsitesdefaultfilesstylesnewspublicthumbnailsimagebatimentesiee920x600jpgitokIFRs10G9width120height90altBatimententréeESIEEParistitleBatimententréeESIEEParisENDscald3585divspanclassslidecontenttitleahreffractualiteintegrercycleingenieurbutclassisuppercaseRéformedesIUTIntégrezESIEEParisdèsleBUT2DUTaspandivclassclearfixdivpclassslidecontentdescLesélèvesenBUT2DUTpourrontsorienterverslaformationdingénieuràESIEEParisdèslafindeleur2eannéepdivdivclassslideslidecontentspanclassslidecontentdateinlineblockspanclassdatedisplaysingle24112022spanspanspanclassslidecontentthemeinlineblockisuppercaseAdmissionsspandivclassclearfixdivdivclassslidecontentimgpullleftscald3625newsthumbnailimgsrchttpswwwesieefrsitesdefaultfilesstylesnewspublicthumbnailsimagelogopuissancealpha210x140webjpgitokbZw1SYPwidth120height90altLogoPuissanceAlphaConcoursd039accèsauxgrandesécolesd039ingénieurstitleLogoPuissanceAlphaConcoursd039accèsauxgrandesécolesd039ingénieursENDscald3625divspanclassslidecontenttitleahreffractualitesessionpreparationpuissancealpha2023classisuppercasePréparezvousauConcoursPuissanceAlpha2023àESIEEParisaspandivclassclearfixdivpclassslidecontentdescRendezvouslesamedi18mars2023pourunesessiondepréparationgratuitepdivdivclassslideslidecontentspanclassslidecontentdateinlineblockspanclassdatedisplaysingle06012022spanspanspanclassslidecontentthemeinlineblockisuppercaseClassementspandivclassclearfixdivdivclassslidecontentimgpullleftscald2842newsthumbnailimgsrchttpswwwesieefrsitesdefaultfilesstylesnewspublicthumbnailsimagelogoletudiant210x140v2pngitokICtmStsbwidth120height90altL039étudiant2021titleL039étudiant2021ENDscald2842divspanclassslidecontenttitleahreffractualitesclassementletudiantecoleingenieur2022classisuppercaseClassementLEtudiant2022ESIEEPARIS4eécolepostbac1reenIledeFranceaspandivclassclearfixdivpclassslidecontentdescESIEEParisconservesaplaceparmilesécolesdingénieursduGroupeAen4epositiondesécolespostbacpdivdivclassslideslidecontentspanclassslidecontentdateinlineblockspanclassdatedisplaysingle19112022spanspanspanclassslidecontentthemeinlineblockisuppercaseSalonsspandivclassclearfixdivdivclassslidecontentimgpullleftscald3525newsthumbnailimgsrchttpswwwesieefrsitesdefaultfilesstylesnewspublicthumbnailsimagevisuelsalonstandjpgitokUMZPDmNjwidth120height90altSalonsétudiantsetétudiantesESIEEParistitleSalonsétudiantsetétudiantesESIEEParisENDscald3525divspanclassslidecontenttitleahreffractualitesaloneducationnovembre2022classisuppercaseOrientationRendezvousausalondel039éducationaspandivclassclearfixdivpclassslidecontentdescDu25au27novembre2022découvreznosformationsetéchangezaveclesélèvesingénieursESIEEParispdivdivclassslideslidecontentspanclassslidecontentdateinlineblockspanclassdatedisplaysingle09112022spanspanspanclassslidecontentthemeinlineblockisuppercaseDistinctionsspandivclassclearfixdivdivclassslidecontentimgpullleftscald3601newsthumbnailimgsrchttpswwwesieefrsitesdefaultfilesstylesnewspublicthumbnailsimagejosselinlefevrebeststudentpaperaward2022pngitoklqvxHZkRwidth120height90altJosselinLefèvretitleJosselinLefèvreremporteunBestStudentPaperawardENDscald3601divspanclassslidecontenttitleahreffractualitesjosselinlefevrediplomeesieeparisremporteunbeststudentpaperawardclassisuppercaseJosselinLefèvrediplôméESIEEParisremporteunBestStudentPaperawardaspandivclassclearfixdivpclassslidecontentdescUnprixenlienavecsestravauxdethèsequiportentsurlalgorithmiqueoutofcorepdivdivclassslideslidecontentspanclassslidecontentdateinlineblockspanclassdatedisplaysingle27102022spanspanspanclassslidecontentthemeinlineblockisuppercaseActualitésspandivclassclearfixdivdivclassslidecontentimgpullleftscald3587newsthumbnailimgsrchttpswwwesieefrsitesdefaultfilesstylesnewspublicthumbnailsimageparutionlivremartinevillegaslucasletailleur2022pngitokYuiraO2width120height90altParutiondeConnectivitéwirelesstitleParutiondel039ouvrageConnectivitéwirelesscoécritpardesprofesseursetingénieursdeESIEEParisENDscald3587divspanclassslidecontenttitleahreffractualitesparutiondelouvrageconnectivitewirelesscoecritpardesprofesseursetingenieursdeesieeparisclassisuppercaseParutiondel039ouvrageConnectivitéwirelesscoécritpardesprofesseursetingénieursdeESIEEParisaspandivclassclearfixdivpclassslidecontentdescIlestparule26octobrechezDunodpdivdivclassslideslidecontentspanclassslidecontentdateinlineblockspanclassdatedisplaysingle17102022spanspanspanclassslidecontentthemeinlineblockisuppercaseDistinctionsspandivclassclearfixdivdivclassslidecontentimgpullleftscald3556newsthumbnailimgsrchttpswwwesieefrsitesdefaultfilesstylesnewspublicthumbnailsimagesanstitre3pngitokbqykJ3bwidth120height90altLucasLetailleurremporteunbesttpaperawardtitleLucasLetailleurremporteunbesttpaperaward2022ENDscald3556divspanclassslidecontenttitleahreffractualiteslucasletailleurremporteunbestpaperawardclassisuppercaseLucasLetailleurremporteunbestpaperawardaspandivclassclearfixdivpclassslidecontentdescDiplôméESIEEParisetdoctorantESYCOMilreçoitcebestpaperdanslacatégorieMicrowaveaucongrèsIEEEMTTWpdivdivclassslideslidecontentspanclassslidecontentdateinlineblockspanclassdatedisplaysingle12102022spanspanspanclassslidecontentthemeinlineblockisuppercaseEntreprisesspandivclassclearfixdivdivclassslidecontentimgpullleftscald3555newsthumbnailimgsrchttpswwwesieefrsitesdefaultfilesstylesnewspublicthumbnailsimageforumpourlemploiesieeparispngitok9RfOE32uwidth120height90altForumpourl039emploijeudi17novembretitleForumpourlemploiESIEEParisjeudi17novembre2022ENDscald3555divspanclassslidecontenttitleahreffractualitesforumpourlemploiesieeparisjeudi17novembre2022classisuppercaseForumpourlemploiESIEEParisjeudi17novembre2022aspandivclassclearfixdivpclassslidecontentdescPlusde50entreprisesserontprésentesloccasionpourlesélèvesetjeunesdiplômésdelécoledetrouverunstageouunemploipdivdivclassslideslidecontentspanclassslidecontentdateinlineblockspanclassdatedisplaysingle12092022spanspanspanclassslidecontentthemeinlineblockisuppercaseLaRecherchespandivclassclearfixdivdivclassslidecontentimgpullleftscald3501newsthumbnailimgsrchttpswwwesieefrsitesdefaultfilesstylesnewspublicthumbnailsimagevisuelactuquenting1pngitokkp7nF4U7width120height90altVisuelactualitéderecherchetitleVisuelactualitéderechercheENDscald3501divspanclassslidecontenttitleahreffractualitesrechercheundoctorantESIEEParisreC3A7oitleprixIanlawsonvantochmemorialawardforoutstandingstudentpaperclassisuppercaseRechercheUndoctorantESIEEParisreçoitleprixquotIanLawsonVanTochMemorialAwardforOutstandingStudentPaperquotaspandivclassclearfixdivpclassslidecontentdescDécouvrezlarticledeQuentinGarridoparudansBioinformaticspdivdivclassslideslidecontentspanclassslidecontentdateinlineblockspanclassdatedisplaysingle19102022spanspanspanclassslidecontentthemeinlineblockisuppercaseChallengespandivclassclearfixdivdivclassslidecontentimgpullleftscald3577newsthumbnailimgsrchttpswwwesieefrsitesdefaultfilesstylesnewspublicthumbnailsimagegamejam2022esieeesipepngitokpGIfmJjbwidth120height90altRemisedesprixtitleGameJam2022ENDscald3577divspanclassslidecontenttitleahreffractualites1reeditiondelagamejamesieeparisesipeclassisuppercase1reéditiondelaGameJamESIEEParisampESIPEaspandivclassclearfixdivpclassslidecontentdescDu12au14octobre81apprentiseninformatiquedesdeuxécolesontparticipéàlaGamejamDécouvrezleséquipesgagnantespdivdivclassslideslidecontentspanclassslidecontentdateinlineblockspanclassdatedisplaysingle03102022spanspanspanclassslidecontentthemeinlineblockisuppercaseActualitésspandivclassclearfixdivdivclassslidecontentimgpullleftscald3531newsthumbnailimgsrchttpswwwesieefrsitesdefaultfilesstylesnewspublicthumbnailsimagetropheesdesfemmes2022pngitok2KyFmX2Ywidth120height90altLauréatestrophéesdesFemmestitletropheesdesfemmes2022ENDscald3531divspanclassslidecontenttitleahreffractualitesesieeparispartenairedestropheesdesfemmesdelindustrie2022classisuppercaseESIEEParispartenairedestrophéesdesfemmesdelindustrie2022aspandivclassclearfixdivpclassslidecontentdescESIEEParisreprésentéparClaireSpilmannresponsablecommunicationetréférenteégalitéaremisleprixdébutprometteurcejeudi29septembre2022pdivdivclassslideslidecontentspanclassslidecontentdateinlineblockspanclassdatedisplaysingle28092022spanspanspanclassslidecontentthemeinlineblockisuppercaseEvènementsspandivclassclearfixdivdivclassslidecontentimgpullleftscald3530newsthumbnailimgsrchttpswwwesieefrsitesdefaultfilesstylesnewspublicthumbnailsimagetremplinrecherche40pngitokTNeeg7Dhwidth120height90alttremplinrecherche4pngtitleJournéeTremplinrecherche2022ENDscald3530divspanclassslidecontenttitleahreffractualitesjourneetremplinrecherchepresentationdesprojetsderecherchedeselevesesieeparisclassisuppercaseJournéeTremplinrechercheprésentationdesprojetsderecherchedesélèvesESIEEParisaspandivclassclearfixdivpclassslidecontentdesc11élèvesontprésentéleursprojetscejeudi15septembre2022pdivdivclassslideslidecontentspanclassslidecontentdateinlineblockspanclassdatedisplaysingle22072022spanspanspanclassslidecontentthemeinlineblockisuppercaseClassementspandivclassclearfixdivdivclassslidecontentimgpullleftscald3499newsthumbnailimgsrchttpswwwesieefrsitesdefaultfilesstylesnewspublicthumbnailsimagevisuelactuclassementshanghai2022jpgitokTRZkkvXwidth120height90altClassementthématiquedeShanghaititleClassementthématiquedeShanghaiENDscald3499divspanclassslidecontenttitleahreffractualiteclassementthematiqueshanghai2022classisuppercaseLUniversitéGustaveEiffelconfortesaplacedansleclassementthématiquedeShanghaiaspandivclassclearfixdivpclassslidecontentdescLUniversitéGustaveEiffeldontESIEEParisestmembrefondateursedémarquesur11classementsthématiquesdansleclassementdeShanghaipdivdivclassslideslidecontentspanclassslidecontentdateinlineblockspanclassdatedisplaysingle23032022spanspanspanclassslidecontentthemeinlineblockisuppercaseClassementspandivclassclearfixdivdivclassslidecontentimgpullleftscald3358newsthumbnailimgsrchttpswwwesieefrsitesdefaultfilesstylesnewspublicthumbnailsimagelogohappyschool2022jpgitok7vn8IQPQwidth120height90altHappyatSchool2022titleHappyatSchool2022ENDscald3358divspanclassslidecontenttitleahreffractualiteclassementhappyatschool2022classisuppercaseESIEEParis13educlassementHappyAtSchool2022aspandivclassclearfixdivpclassslidecontentdescLunedesmeilleuresécolesdingénieursoùilfaitbonétudierpdivdivclassslideslidecontentspanclassslidecontentdateinlineblockspanclassdatedisplaysingle26042022spanspanspanclassslidecontentthemeinlineblockisuppercaseClassementspandivclassclearfixdivdivclassslidecontentimgpullleftscald2961newsthumbnailimgsrchttpswwwesieefrsitesdefaultfilesstylesnewspublicthumbnailsimagevisuelclassementcwurjpgitok44OCvSxXwidth120height90altClassementinternationalCWUR2021titleClassementinternationalCWUR2021ENDscald2961divspanclassslidecontenttitleahreffractualiteclassementinternationalCWUR2022classisuppercaseLUNIVERSITÉGUSTAVEEIFFELDANSLETOPDESUNIVERSITÉSMONDIALESDUCWURaspandivclassclearfixdivpclassslidecontentdescLeCenterforWorldUniversityRankingsCWURpubliesonclassementdesmeilleursétablissementsdenseignementsupérieurdumondepdivdivclassslideslidecontentlastslidespanclassslidecontentdateinlineblockspanclassdatedisplaysingle22032022spanspanspanclassslidecontentthemeinlineblockisuppercaseActualitésspandivclassclearfixdivdivclassslidecontentimgpullleftscald3359newsthumbnailimgsrchttpswwwesieefrsitesdefaultfilesstylesnewspublicthumbnailsimagelogosecnumedu210x140jpgitokEM91wnT0width120height90altLogoSecNumedutitleLogoSecNumeduENDscald3359divspanclassslidecontenttitleahreffractualitelabellisationformationssecnumeduanssi2022classisuppercaseESIEEParislabelliséeSecNumeduparlANSSIaspandivclassclearfixdivpclassslidecontentdescESIEEParisobtientlelabelSecNumedupoursafilièreCybersécuritéetrenouvellecettecertificationpoursafilièreRéseauxetSécuritéenapprentissagepdivdivdivdivclasstopzonedivclassinnerclearfixdivclasscontentblock2pullleftturquoisedivclasscontentblock2topdivclasscontentblock2titleClassementsdivdivclasscontentblock2imgdivclassimageimgsrchttpswwwesieefrsitesdefaultfilesthumbnailsimageentreeclassements319x121jpgwidth319height121altEntréeclassementstitleEntréeclassementsdivdivdivpclasscontentblock2desc1eécolepostbacd39IledeFranceselonlesclassementsdel39Etudiant2022etEduniversal2022pspanclasscontentblock2linkpullrightahrefhttpswwwesieefrfrclassementsecolesingenieuresieeparisEnsavoirplusaspandivclassclearfixdivdivdivclasspanelseparatordivdivclasscontentblock2pullleftmauvedivclasscontentblock2topdivclasscontentblock2titleRecrutementApprentissagedivdivclasscontentblock2imgdivclassimageimgsrchttpswwwesieefrsitesdefaultfilesthumbnailsimageentreeformationcontinue319x121jpgwidth319height121altFormationcontinuetitleFormationcontinuedivdivdivpclasscontentblock2descEntreprisescollaboreraveclesélèvesingénieursestlrsquoopportunitédelesformerauxméthodesdetravailauxspécificitésetàlaculturedevotreentreprisepspanclasscontentblock2linkpullrightahrefhttpswwwesieefrfrentreprisesrecruteznosetudiantsrecrutezunapprentiEnsavoirplusaspandivclassclearfixdivdivdivclasspanelseparatordivdivclasshomepubliciteblockpullleftulclasshomepromotionsliderliahrefhttpswwwesieefrfrnousrencontrerscald3507promotiondesktopimgsrchttpswwwesieefrsitesdefaultfilesstylespromotiondesktoppublicthumbnailsimagew1bannierejpo2022jpgitokl2gwrQ96width243height425altJournéesportesouvertesESIEEParistitleJournéesportesouvertesESIEEParisENDscald3507aliliahrefhttpswwwesieefrfrnousrencontrerscald3510promotiondesktopimgsrchttpswwwesieefrsitesdefaultfilesstylespromotiondesktoppublicthumbnailsimagew2bannierejpo2022jpgitoke9k0rhTQwidth243height425altJournéesportesouvertesESIEEParistitleJournéesportesouvertesESIEEParisENDscald3510aliliahrefhttpswwwesieefrfrnousrencontrerscald3513promotiondesktopimgsrchttpswwwesieefrsitesdefaultfilesstylespromotiondesktoppublicthumbnailsimagew3bannierejpo2022jpgitok7xz3Uapwidth243height425altJournéesportesouvertesESIEEParistitleJournéesportesouvertesESIEEParisENDscald3513aliliahrefhttpswwwesieefrfrecolevisitevirtuellescald2103promotiondesktopimgsrchttpswwwesieefrsitesdefaultfilesstylespromotiondesktoppublicthumbnailsimagew1bannierevisitevirtuellejpgitokMb95IJ6Iwidth243height425altVisitevirtuelleESIEEParistitleVisitevirtuelleESIEEParisENDscald2103aliliahrefhttpswwwesieefrfrentreprisesentreprisespartenairesdevenezparraindepromotionscald3095promotiondesktopimgsrchttpswwwesieefrsitesdefaultfilesstylespromotiondesktoppublicthumbnailsimagewrenaultjpgitoknHaxyLADwidth243height425altWRenaulttitleWRenaultENDscald3095aliuldivdivclasshomepubliciteblockmobilepullleftulclasshomepromotionsliderliahrefhttpswwwesieefrfrnousrencontrerscald3508promotiontabletimgsrchttpswwwesieefrsitesdefaultfilesstylespromotiontabletpublicthumbnailsimaget1bannierejpo2022jpgitokgTH69QEtwidth649height122altJournéesportesouvertesESIEEParistitleJournéesportesouvertesESIEEParisENDscald3508aliliahrefhttpswwwesieefrfrnousrencontrerscald3511promotiontabletimgsrchttpswwwesieefrsitesdefaultfilesstylespromotiontabletpublicthumbnailsimaget2bannierejpo2022jpgitokag1HVFGwidth649height122altJournéesportesouvertesESIEEParistitleJournéesportesouvertesESIEEParisENDscald3511aliliahrefhttpswwwesieefrfrnousrencontrerscald3514promotiontabletimgsrchttpswwwesieefrsitesdefaultfilesstylespromotiontabletpublicthumbnailsimaget3bannierejpo2022jpgitokoJYIuuywidth649height122altJournéesportesouvertesESIEEParistitleJournéesportesouvertesESIEEParisENDscald3514aliliahrefhttpswwwesieefrfrecolevisitevirtuellescald2104promotiontabletimgsrchttpswwwesieefrsitesdefaultfilesstylespromotiontabletpublicthumbnailsimaget1bannierevisitevirtuellejpgitokEy6BcwiCwidth649height122altVisitevirtuelleESIEEParistitleVisitevirtuelleESIEEParisENDscald2104aliliahrefhttpswwwesieefrfrentreprisesentreprisespartenairesdevenezparraindepromotionscald3096promotiontabletimgsrchttpswwwesieefrsitesdefaultfilesstylespromotiontabletpublicthumbnailsimagetrenaultjpgitokb17Qt6iPwidth649height122altTRenaulttitleTRenaultENDscald3096aliuldivdivclasshomepubliciteblockmobilesmallpullleftclearfixulclasshomepromotionsliderliahrefhttpswwwesieefrfrnousrencontrerscald3509promotionmobileimgsrchttpswwwesieefrsitesdefaultfilesstylespromotionmobilepublicthumbnailsimagem1bannierejpo2022jpgitokpGn8RcwKwidth480height122altJournéesportesouvertesESIEEParistitleJournéesportesouvertesESIEEParisENDscald3509aliliahrefhttpswwwesieefrfrnousrencontrerscald3512promotionmobileimgsrchttpswwwesieefrsitesdefaultfilesstylespromotionmobilepublicthumbnailsimagem2bannierejpo2022jpgitok8xxCrr1Ewidth480height122altJournéesportesouvertesESIEEParistitleJournéesportesouvertesESIEEParisENDscald3512aliliahrefhttpswwwesieefrfrnousrencontrerscald3515promotionmobileimgsrchttpswwwesieefrsitesdefaultfilesstylespromotionmobilepublicthumbnailsimagem3bannierejpo2022jpgitok8RODTmZlwidth480height122altJournéesportesouvertesESIEEParistitleJournéesportesouvertesESIEEParisENDscald3515aliliahrefhttpswwwesieefrfrecolevisitevirtuellescald2105promotionmobileimgsrchttpswwwesieefrsitesdefaultfilesstylespromotionmobilepublicthumbnailsimagem1bannierevisitevirtuellejpgitokx1o7WUlwidth480height122altVisitevirtuelleESIEEParistitleVisitevirtuelleESIEEParisENDscald2105aliliahrefhttpswwwesieefrfrentreprisesentreprisespartenairesdevenezparraindepromotionscald3097promotionmobileimgsrchttpswwwesieefrsitesdefaultfilesstylespromotionmobilepublicthumbnailsimagemrenaultjpgitokcnNeY61width480height122altMRenaulttitleMRenaultENDscald3097aliuldivdivdivdivclassinnerh2classpagetitlepagetitlestyle2Domainesdecompétencesh2divclassresponsiveslider2divclassslideslidecontentdivclassslidecontentimgahrefformationsingenieurfilieresdatascienceintelligenceartificiellescald2974skillthumbnailimgsrchttpswwwesieefrsitesdefaultfilesstylesskillpublicthumbnailsimagedatascienceweb920x600jpgitoklsYowCVwidth207height125altFormationDatasciencetitleFormationDatascienceENDscald2974adivspanclassslidecontentinfoahrefhttpswwwesieefrfrformationsingenieurfilieresdatascienceintelligenceartificielleDatascienceetintelligenceartificielleaspanspanclassslidecontentthemeahrefhttpswwwesieefrfrformationsingenieuringenieuresieeparisIngénieuraspanahreffrformationsingenieurfilieresdatascienceintelligenceartificielleclassslidecontentlinkisuppercaseLirelasuiteadivdivclassslideslidecontentdivclassslidecontentimgahrefformationsingenieurfilieresinformatiquescald2959skillthumbnailimgsrchttpswwwesieefrsitesdefaultfilesstylesskillpublicthumbnailsimageinformatiqueweb920x600jpgitokPoa36qwidth207height125altFormationd039ingénieurinformatiquetitleFormationd039ingénieurinformatiqueENDscald2959adivspanclassslidecontentinfoahrefhttpswwwesieefrfrformationsingenieurfilieresinformatiqueInformatiqueaspanspanclassslidecontentthemeahrefhttpswwwesieefrfrformationsingenieuringenieuresieeparisIngénieuraspanahreffrformationsingenieurfilieresinformatiqueclassslidecontentlinkisuppercaseLirelasuiteadivdivclassslideslidecontentdivclassslidecontentimgahrefformationsingenieurparapprentissagesystemesembarquesscald2983skillthumbnailimgsrchttpswwwesieefrsitesdefaultfilesstylesskillpublicthumbnailsimagesystemesembarquesapprentissage920x600jpgitokqmj2iYJFwidth207height125altFormationalternanceSystèmesembarquéstitleFormationalternanceSystèmesembarquésENDscald2983adivspanclassslidecontentinfoahrefhttpswwwesieefrfrformationsingenieurparapprentissagesystemesembarquesSystèmesembarquésTransportsetobjectsintelligentsaspanspanclassslidecontentthemeahrefhttpswwwesieefrfrformationsingenieurparapprentissageIngénieurparapprentissageaspanahreffrformationsingenieurparapprentissagesystemesembarquesclassslidecontentlinkisuppercaseLirelasuiteadivdivclassslideslidecontentdivclassslidecontentimgahrefformationsingenieurfilieressystemeselectroniquesscald2977skillthumbnailimgsrchttpswwwesieefrsitesdefaultfilesstylesskillpublicthumbnailsimagesystemeselectroniquesintelligents920x600jpgitokWmrOmTQTwidth207height125altFormationSystèmesélectroniquesintelligentstitleFormationSystèmesélectroniquesintelligentsENDscald2977adivspanclassslidecontentinfoahrefhttpswwwesieefrfrformationsingenieurfilieressystemeselectroniquesSystèmesélectroniquesintelligentsaspanspanclassslidecontentthemeahrefhttpswwwesieefrfrformationsingenieuringenieuresieeparisIngénieuraspanahreffrformationsingenieurfilieressystemeselectroniquesclassslidecontentlinkisuppercaseLirelasuiteadivdivclassslideslidecontentdivclassslidecontentimgahrefformationsingenieurfilieressystemesembarquesscald2976skillthumbnailimgsrchttpswwwesieefrsitesdefaultfilesstylesskillpublicthumbnailsimagesystemesembarquesweb920x600jpgitokyFKcypMNwidth207height125altFormationSystèmesembarquéstitleFormationSystèmesembarquésENDscald2976adivspanclassslidecontentinfoahrefhttpswwwesieefrfrformationsingenieurfilieressystemesembarquesSystèmesembarquésaspanspanclassslidecontentthemeahrefhttpswwwesieefrfrformationsingenieuringenieuresieeparisIngénieuraspanahreffrformationsingenieurfilieressystemesembarquesclassslidecontentlinkisuppercaseLirelasuiteadivdivclassslideslidecontentdivclassslidecontentimgahrefhttpwwwesieefrformationsbachelorscald2997skillthumbnailimgsrchttpswwwesieefrsitesdefaultfilesstylesskillpublicthumbnailsimagebacheloretudiantsweb920x6000jpgitoktVRMXu6ewidth207height125altFormationBachelortitleFormationBachelorENDscald2997adivspanclassslidecontentinfoahrefhttpwwwesieefrformationsbachelorEconomieSciencesetTechnologiesMultimediaaspanspanclassslidecontentthemeahrefhttpwwwesieefrformationsbachelorBacheloraspanahrefhttpwwwesieefrformationsbachelorclassslidecontentlinkisuppercaseLirelasuiteadivdivclassslideslidecontentdivclassslidecontentimgahrefhttpwwwesieefrfrformationsingenieurparapprentissageenergiesscald2986skillthumbnailimgsrchttpswwwesieefrsitesdefaultfilesstylesskillpublicthumbnailsimageenergiesapprentissage920x600jpgitokt72mUwfwidth207height125altFormationalternanceEnergiestitleFormationalternanceEnergiesENDscald2986adivspanclassslidecontentinfoahrefhttpwwwesieefrfrformationsingenieurparapprentissageenergiesEnergiesIngénieriedelatransitionénergétiqueaspanspanclassslidecontentthemeahrefhttpwwwesieefrfrformationsingenieurparapprentissageIngénieurparapprentissageaspanahrefhttpwwwesieefrfrformationsingenieurparapprentissageenergiesclassslidecontentlinkisuppercaseLirelasuiteadivdivclassslideslidecontentdivclassslidecontentimgahrefformationsingenieurfilieresenergiescald2980skillthumbnailimgsrchttpswwwesieefrsitesdefaultfilesstylesskillpublicthumbnailsimageenergieweb920x600jpgitokVvqdwvXTwidth207height125altFormationénergiestitleFormationénergiesENDscald2980adivspanclassslidecontentinfoahrefhttpswwwesieefrfrformationsingenieurfilieresenergieEnergieEnergiesrenouvelablesetefficacitéénergétiqueaspanspanclassslidecontentthemeahrefhttpswwwesieefrfrformationsingenieuringenieuresieeparisIngénieuraspanahreffrformationsingenieurfilieresenergieclassslidecontentlinkisuppercaseLirelasuiteadivdivclassslideslidecontentdivclassslidecontentimgahrefformationsingenieurfilierescybersecuritescald2973skillthumbnailimgsrchttpswwwesieefrsitesdefaultfilesstylesskillpublicthumbnailsimagecybersecuriteweb920x600jpgitokFD7iRPUZwidth207height125altFormationCybersécuritétitleFormationCybersécuritéENDscald2973adivspanclassslidecontentinfoahrefhttpswwwesieefrfrformationsingenieurfilierescybersecuriteCybersécuritéaspanspanclassslidecontentthemeahrefhttpswwwesieefrfrformationsingenieuringenieuresieeparisIngénieuraspanahreffrformationsingenieurfilierescybersecuriteclassslidecontentlinkisuppercaseLirelasuiteadivdivclassslideslidecontentdivclassslidecontentimgahrefhttpwwwesieefrformationsingenieurparapprentissagegenieindustrielscald2985skillthumbnailimgsrchttpswwwesieefrsitesdefaultfilesstylesskillpublicthumbnailsimagegenieindustrielapprentissage920x600jpgitokjIYcs5Rwidth207height125altFormationalternanceGénieindustrieltitleFormationalternanceGénieindustrielENDscald2985adivspanclassslidecontentinfoahrefhttpwwwesieefrformationsingenieurparapprentissagegenieindustrielGénieindustrielSupplychainetnumériqueaspanspanclassslidecontentthemeahrefhttpwwwesieefrformationsingenieurparapprentissageIngénieurparapprentissageaspanahrefhttpwwwesieefrformationsingenieurparapprentissagegenieindustrielclassslidecontentlinkisuppercaseLirelasuiteadivdivclassslideslidecontentdivclassslidecontentimgahrefformationsingenieurfilieresartificialintelligencecybersecurityscald2975skillthumbnailimgsrchttpswwwesieefrsitesdefaultfilesstylesskillpublicthumbnailsimagevisuelintelligenceartificielle920x600webjpgitokOLppWUODwidth207height125altFormationIntelligenceartificielleetcybersecuritétitleFormationIntelligenceartificielleetcybersecuritéENDscald2975adivspanclassslidecontentinfoahrefhttpswwwesieefrfrformationsingenieurfilieresartificialintelligencecybersecurityArtificialintelligenceandcybersecurityaspanspanclassslidecontentthemeahrefhttpswwwesieefrfrformationsingenieuringenieuresieeparisIngénieuraspanahreffrformationsingenieurfilieresartificialintelligencecybersecurityclassslidecontentlinkisuppercaseLirelasuiteadivdivclassslideslidecontentdivclassslidecontentimgahrefformationsingenieurparapprentissagereseauxsecuritescald2982skillthumbnailimgsrchttpswwwesieefrsitesdefaultfilesstylesskillpublicthumbnailsimagereseauxsecuriteapprentissage920x600jpgitokALmNmrIMwidth207height125altFormationalternanceRéseauxetsécuritétitleFormationalternanceRéseauxetsécuritéENDscald2982adivspanclassslidecontentinfoahrefhttpswwwesieefrfrformationsingenieurparapprentissagereseauxsecuriteRéseauxetsécuritéArchitectureetinternetdesobjetsaspanspanclassslidecontentthemeahrefhttpswwwesieefrfrformationsingenieurparapprentissageIngénieurparapprentissageaspanahreffrformationsingenieurparapprentissagereseauxsecuriteclassslidecontentlinkisuppercaseLirelasuiteadivdivclassslideslidecontentdivclassslidecontentimgahrefformationsingenieurfilieresgenieindustrielscald2978skillthumbnailimgsrchttpswwwesieefrsitesdefaultfilesstylesskillpublicthumbnailsimagegenieindustrielweb920x600jpgitok02kxzu9rwidth207height125altFormationGénieindustrieltitleFormationGénieindustrielENDscald2978adivspanclassslidecontentinfoahrefhttpswwwesieefrfrformationsingenieurfilieresgenieindustrielGénieindustrielaspanspanclassslidecontentthemeahrefhttpswwwesieefrfrformationsingenieuringenieuresieeparisIngénieuraspanahreffrformationsingenieurfilieresgenieindustrielclassslidecontentlinkisuppercaseLirelasuiteadivdivclassslideslidecontentdivclassslidecontentimgahrefformationsingenieurparapprentissageinformatiqueetapplicationsscald2984skillthumbnailimgsrchttpswwwesieefrsitesdefaultfilesstylesskillpublicthumbnailsimageinformatiqueapplicationsapprentissage920x600jpgitokULUGMlwlwidth207height125altFormationalternanceInformatiqueetapplicationstitleFormationalternanceInformatiqueetapplicationsENDscald2984adivspanclassslidecontentinfoahrefhttpswwwesieefrfrformationsingenieurparapprentissageinformatiqueetapplicationsInformatiqueetapplicationsaspanspanclassslidecontentthemeahrefhttpswwwesieefrfrformationsingenieurparapprentissageIngénieurparapprentissageaspanahreffrformationsingenieurparapprentissageinformatiqueetapplicationsclassslidecontentlinkisuppercaseLirelasuiteadivdivclassslideslidecontentdivclassslidecontentimgahrefformationsingenieurfilieresbiotechnologiesesantescald2979skillthumbnailimgsrchttpswwwesieefrsitesdefaultfilesstylesskillpublicthumbnailsimagebiotechnologiesweb920x600jpgitokhQwX0d8Lwidth207height125altFormationbiotechnologiesetesantétitleFormationbiotechnologiesetesantéENDscald2979adivspanclassslidecontentinfoahrefhttpswwwesieefrfrformationsingenieurfilieresbiotechnologiesesanteBiotechnologiesetesantéaspanspanclassslidecontentthemeahrefhttpswwwesieefrfrformationsingenieuringenieuresieeparisIngénieuraspanahreffrformationsingenieurfilieresbiotechnologiesesanteclassslidecontentlinkisuppercaseLirelasuiteadivdivdivclassresponsiveslider2paginationdivclassresponsiveslider2prevresponsiveslider2navdivdivclassresponsiveslider2pagerdivdivclassresponsiveslider2nextresponsiveslider2navactivedivdivdivdivsectionfooterdivclassinnerclearfixdividblockbeanadresseesieefooterclassblockblockbeandivclassfootercol1pullleftspanclassfootercol1titleESIEEParisspanp2boulevardBlaisePascalbrCitéDescartesbrBP99br93162NoisyleGrandCedexppTel0145926500brnbsppdivdivdividblockesieeesieefootermenuclassblockblockesieedivclassfootercol2pullleftulclassmenufooterliclassfirstleafahreffraccesPland039accèsaliliclassleafahreffrbrochuresBrochuresaliliclassleafahreffrnousrencontrerNousrencontreraliliclassleafahreffrpressePressealiliclassleafahreffrjourdesprojetsLeJourdesProjetsaliliclassleafahreffrvideothequeVidéothèquealiliclassleafahreffrlocationdespacesLocationd039espacesaliliclassleafahrefhttpwwwesieefrfrecolecorpsenseignantenseigneraesieeparisTravailleràESIEEParisaliliclassleafahreffrreseauxsociauxRéseauxsociauxaliliclassleafahreffrecolevisitevirtuelleVisitevirtuellealiliclassleafahrefhttpswwwesieefrfrentreprisesrecruteznosetudiantscontactezlesalumniAlumnialiliclassleafahreffrmentionslegalesMentionsLégalesaliliclasslastleafahreffrplandusitePlandusitealiuldivdivclassclearfixdivdivdividblockesieeesieefootercontactclassblockblockesieedivclasspullleftahreffrcontactclassfootercontactContacterESIEEParisadivdivdividblockbeanfooterlogopartenaireclassblockblockbeandivclasspullrightlogoUnivGustaveEiffelahrefhttpswwwunivgustaveeiffelfrtargetblankdivclassimageimgsrcsitesdefaultfileslogomembrefondateurunivgustaveeiffelpngaltMembrefondateurUniversitéGustaveEiffeltitleMembrefondateurUniversitéGustaveEiffeldivadivdivclasspullrightlogocciahrefhttpswwwcciparisidffrtargetblankdivclassimageimgsrchttpswwwesieefrsitesdefaultfilesthumbnailsimagelogocciparispngwidth150height41altCCIParisÎledeFranceÉducationtitleCCIParisÎledeFranceÉducationdivadivdivdivfooterdivdivclasstoolbartoolbarfooteridtoolbarfooterulliclassahrefhttpswwwfacebookcomesieeparistargetblankiclassfafafacebookialiliclassahrefhttpstwittercomESIEEPARIStargetblankiclassfafatwitterialiliclassahrefhttpswwwlinkedincomeduschoolid20041trktyahtrkInfoidx3A4142CtarId3A14259985613862Ctas3AesieeparistargetblankiclassfafalinkedinialiliclassyoutubeahrefhttpwwwyoutubecomesieeparistargetblankiclassfafayoutubeialiliclassahrefhttpswwwinstagramcomesieeparistargetblankiclassfafainstagramialiuldivscripttypetextjavascriptCDATAwindowjQuerydocumentwritescriptsrcsitesallmodulescontribjqueryupdatereplacejquery110jqueryminjsx3Cscriptscriptscripttypetextjavascriptsrccodejquerycomjquery1102minjsscriptscripttypetextjavascriptsrchttpswwwesieefrsitesdefaultfilesjsjsHfha9RCTNm8mqMDLXriIsKGMaghzs4ZaqJPLj2esi7sjsscriptscripttypetextjavascriptsrchttpswwwesieefrsitesdefaultfilesjsjsDBi72BBkS07mO2sU0Cs9m7vqf0DaCcgVHrnEXxtcgjsscriptscripttypetextjavascriptsrchttpswwwesieefrsitesdefaultfilesjsjsf6OzlFXjayKlsU5sJKLwjz7LFQvdIZDmMt6jKwyMjsscriptscripttypetextjavascriptsrchttpswwwesieefrsitesdefaultfilesjsjs5KDDJv5290ay0bGoDGkG1We2FzJ9AbtXZpCKmmOd2QjsscriptscripttypetextjavascriptCDATAwindoweuCookieComplianceLoadScriptsfunctioncategoryifcategorymarketingvarscriptTagdocumentcreateElementscriptscriptTagsrcsitesallmodulescontribgoogleanalyticsgoogleanalyticsjsdocumentbodyappendChildscriptTagifcategorymarketingvarscriptTagdocumentcreateElementscriptscriptTagsrcsitesallmodulescontribgooglecsegooglecsejsdocumentbodyappendChildscriptTagifcategorymarketingvarscriptTagdocumentcreateElementscriptscriptTagsrchttpsscstaticnetsceventminjsdocumentbodyappendChildscriptTagifcategorymarketingvarscriptTagdocumentcreateElementscriptscriptTagsrchttpswwwgoogleanalyticscomanalyticsjsdocumentbodyappendChildscriptTagscriptscripttypetextjavascriptCDATAwindoweucookiecompliancecookienameesieecookieagreescriptscripttypetextjavascriptsrchttpswwwesieefrsitesdefaultfilesjsjsOcnYk3BsAL36DMCzfnOO90SmqhLZ4cGLLnud6MRZSAjsscriptscripttypetextjavascriptsrchttpswwwesieefrsitesdefaultfilesjsjstGY4wYpb0WBisw27v4rekONTr6JsWcUnZwxkarYugjsscriptscripttypetextjavascriptCDATAjQueryextendDrupalsettingsbasePathpathPrefixfrsetHasJsCookie0ajaxPageStatethemeesieethemethemetokenC2moC06E1FpQkBOLSPsJ7yTPTTyEPTVOxqVxUdhinhMgoogleCSEcxlanguageresultsWidth600domainwwwgooglecomshowWaterMarktruescaldFilepathsitesallmodulescontribscaldfilescaldfilecssurlIsAjaxTrustedtrueeucookiecompliancecookiepolicyversion100popupenabled1popupagreedenabled0popuphideagreed0popupclickingconfirmationfalsepopupscrollingconfirmationfalsepopuphtmlinfou003Cdivclassu0022eucookiecompliancebannereucookiecompliancebannerinfoeucookiecompliancebannercategoriesu0022u003Ernu003Cdivclassu0022popupcontentinfou0022u003Ernu003Cdividu0022popuptextu0022u003Ernu003Cpu003ECesitewebutilisedescookiesCeuxciontdeuxfonctionsdu002639unepartilsfournissentdesfonctionnalitu00e9sdebasepourlesitewebDu002639unautrecu00f4tu00e9ilsnouspermettentdu002639amu00e9liorernotrecontenuenenregistrantetenanalysantlesdonnu00e9esanonymesdesutilisateursVouspouvezu00e0toutmomentreconsidu00e9rervotreconsentementu00e0lu002639utilisationdescookiesu003Cpu003Eu003Cpu003EPourensavoirplusetparamu00e9trerlescookiesvisiteru003Cahrefu0022frmentionslegalesu0022u003Elapagedesmentionslu00e9galesdeESIEEParisu003Cau003Eu003Cpu003Eu003Cdivu003Ernu003Cdividu0022eucookiecompliancecategoriesu0022classu0022eucookiecompliancecategoriescustomcookiecategorieu0022u003Ernu003Cdivclassu0022eucookiecompliancecategoryu0022u003Ernu003Cdivclassu0022inputcategorieu0022u003Ernu003Cinputtypeu0022checkboxu0022nameu0022cookiecategoriesu0022idu0022cookiecategorynecessaireu0022rnvalueu0022necessaireu0022rncheckeddisabledu003Ernu003Cdivu003Ernrnu003Cdivclassu0022cookieheaderaccordionu0022u003Ernu003Cspanclassu0022linkcookieu0022u003ENu00e9cessaireu003Cspanu003Ernu003Cdivu003Ernu003Cdivclassu0022eucookiecompliancecategorydescriptionpaneldescriptioncategoryu0022u003EEnregistrevotreconsentementu00e0lu0026039utilisationdescookiesu003Cdivu003Ernu003Cdivu003Ernu003Cdivclassu0022eucookiecompliancecategoryu0022u003Ernu003Cdivclassu0022inputcategorieu0022u003Ernu003Cinputtypeu0022checkboxu0022nameu0022cookiecategoriesu0022idu0022cookiecategorymarketingu0022rnvalueu0022marketingu0022rnu003Ernu003Cdivu003Ernrnu003Cdivclassu0022cookieheaderaccordionu0022u003Ernu003Cspanclassu0022linkcookieu0022u003EMarketingu003Cspanu003Ernu003Cdivu003Ernu003Cdivclassu0022eucookiecompliancecategorydescriptionpaneldescriptioncategoryu0022u003EAveclu0026039aidedecescookiesnousnousefforu00e7onsdu0026039amu00e9liorernotreoffrepournosutilisateursParlebiaisdedonnu00e9esanonymesdesutilisateursdusitewebnouspouvonsoptimiserlefluxdelu0026039utilisateurcequinouspermetdu0026039amu00e9liorerlescontenusdusiteu003Cdivu003Ernu003Cdivu003Ernu003Chrclassu0022separatorcategoriesu0022u003Ernu003Cdivclassu0022eucookiecompliancecategoriesbuttonsu0022u003Ernu003Cbuttontypeu0022buttonu0022rnclassu0022eucookiecompliancesavepreferencesbuttonu0022u003ESauvegarderu003Cbuttonu003Ernu003Cbuttontypeu0022buttonu0022classu0022ecchidecategoriesu0022u003EAnnuleru003Cbuttonu003Ernu003Cdivu003Ernu003Cdivu003Ernrnu003Cdividu0022popupbuttonsu0022classu0022eucookiecompliancehascategoriesu0022u003Ernu003Cbuttontypeu0022buttonu0022classu0022agreebuttoneucookiecompliancedefaultbuttonu0022u003EAcceptertouslescookiesu003Cbuttonu003Ernu003Cbuttontypeu0022buttonu0022classu0022declineallbuttoneucookiecompliancesecondarybuttonu0022u003ERefusertouslescookiesu003Cbuttonu003Eu003Cbuttontypeu0022buttonu0022classu0022findmorebuttoneucookiecompliancemorebuttonu0022u003Eu003Cbuttonu003Ernu003Cbuttontypeu0022buttonu0022classu0022eccshowcategoriesu0022u003EVoirlescatu00e9goriesu003Cbuttonu003Eu003Cdivu003Ernu003Cdivu003Ernu003Cdivu003Eusemobilemessagefalsemobilepopuphtmlinfou003Cdivclassu0022eucookiecompliancebannereucookiecompliancebannerinfoeucookiecompliancebannercategoriesu0022u003Ernu003Cdivclassu0022popupcontentinfou0022u003Ernu003Cdividu0022popuptextu0022u003Ernu003Cdivu003Ernu003Cdividu0022eucookiecompliancecategoriesu0022classu0022eucookiecompliancecategoriescustomcookiecategorieu0022u003Ernu003Cdivclassu0022eucookiecompliancecategoryu0022u003Ernu003Cdivclassu0022inputcategorieu0022u003Ernu003Cinputtypeu0022checkboxu0022nameu0022cookiecategoriesu0022idu0022cookiecategorynecessaireu0022rnvalueu0022necessaireu0022rncheckeddisabledu003Ernu003Cdivu003Ernrnu003Cdivclassu0022cookieheaderaccordionu0022u003Ernu003Cspanclassu0022linkcookieu0022u003ENu00e9cessaireu003Cspanu003Ernu003Cdivu003Ernu003Cdivclassu0022eucookiecompliancecategorydescriptionpaneldescriptioncategoryu0022u003EEnregistrevotreconsentementu00e0lu0026039utilisationdescookiesu003Cdivu003Ernu003Cdivu003Ernu003Cdivclassu0022eucookiecompliancecategoryu0022u003Ernu003Cdivclassu0022inputcategorieu0022u003Ernu003Cinputtypeu0022checkboxu0022nameu0022cookiecategoriesu0022idu0022cookiecategorymarketingu0022rnvalueu0022marketingu0022rnu003Ernu003Cdivu003Ernrnu003Cdivclassu0022cookieheaderaccordionu0022u003Ernu003Cspanclassu0022linkcookieu0022u003EMarketingu003Cspanu003Ernu003Cdivu003Ernu003Cdivclassu0022eucookiecompliancecategorydescriptionpaneldescriptioncategoryu0022u003EAveclu0026039aidedecescookiesnousnousefforu00e7onsdu0026039amu00e9liorernotreoffrepournosutilisateursParlebiaisdedonnu00e9esanonymesdesutilisateursdusitewebnouspouvonsoptimiserlefluxdelu0026039utilisateurcequinouspermetdu0026039amu00e9liorerlescontenusdusiteu003Cdivu003Ernu003Cdivu003Ernu003Chrclassu0022separatorcategoriesu0022u003Ernu003Cdivclassu0022eucookiecompliancecategoriesbuttonsu0022u003Ernu003Cbuttontypeu0022buttonu0022rnclassu0022eucookiecompliancesavepreferencesbuttonu0022u003ESauvegarderu003Cbuttonu003Ernu003Cbuttontypeu0022buttonu0022classu0022ecchidecategoriesu0022u003EAnnuleru003Cbuttonu003Ernu003Cdivu003Ernu003Cdivu003Ernrnu003Cdividu0022popupbuttonsu0022classu0022eucookiecompliancehascategoriesu0022u003Ernu003Cbuttontypeu0022buttonu0022classu0022agreebuttoneucookiecompliancedefaultbuttonu0022u003EAcceptertouslescookiesu003Cbuttonu003Ernu003Cbuttontypeu0022buttonu0022classu0022declineallbuttoneucookiecompliancesecondarybuttonu0022u003ERefusertouslescookiesu003Cbuttonu003Eu003Cbuttontypeu0022buttonu0022classu0022findmorebuttoneucookiecompliancemorebuttonu0022u003Eu003Cbuttonu003Ernu003Cbuttontypeu0022buttonu0022classu0022eccshowcategoriesu0022u003EVoirlescatu00e9goriesu003Cbuttonu003Eu003Cdivu003Ernu003Cdivu003Ernu003Cdivu003Ernmobilebreakpoint768popuphtmlagreedu003Cdivu003Ernu003Cdivclassu0022popupcontentagreedu0022u003Ernu003Cdividu0022popuptextu0022u003Ernu003Ch2u003EThankyouforacceptingcookiesu003Ch2u003Eu003Cpu003EYoucannowhidethismessageorfindoutmoreaboutcookiesu003Cpu003Eu003Cdivu003Ernu003Cdividu0022popupbuttonsu0022u003Ernu003Cbuttontypeu0022buttonu0022classu0022hidepopupbuttoneucookiecompliancehidebuttonu0022u003EMasqueru003Cbuttonu003Ernu003Cbuttontypeu0022buttonu0022classu0022findmorebuttoneucookiecompliancemorebuttonthankyouu0022u003EMoreinfou003Cbuttonu003Ernu003Cdivu003Ernu003Cdivu003Ernu003Cdivu003Epopupusebarecss1popupheightautopopupwidth0popupdelay1000popuplinkfrfrmentionslegalespopuplinknewwindow1popuppositionnullfixedtopposition1popuplanguagefrstoreconsentfalsebettersupportforscreenreaders0reloadpage0domainesieefrdomainallsites0popupeuonlyjs0cookielifetime100cookiesessionfalsedisagreedonotshowpopup0methodcategoriesallowedcookieswithdrawmarkupu003Cbuttontypeu0022buttonu0022classu0022eucookiewithdrawtabu0022u003EPrivacysettingsu003Cbuttonu003Ernu003Cdivclassu0022eucookiewithdrawbanneru0022u003Ernu003Cdivclassu0022popupcontentinfou0022u003Ernu003Cdividu0022popuptextu0022u003Ernu003Ch2u003EWeusecookiesonthissitetoenhanceyouruserexperienceu003Ch2u003Eu003Cpu003EYouhavegivenyourconsentforustosetcookiesu003Cpu003Eu003Cdivu003Ernu003Cdividu0022popupbuttonsu0022u003Ernu003Cbuttontypeu0022buttonu0022classu0022eucookiewithdrawbuttonu0022u003EWithdrawconsentu003Cbuttonu003Ernu003Cdivu003Ernu003Cdivu003Ernu003Cdivu003Ernwithdrawenabledfalsewithdrawbuttononinfopopup0cookiecategoriesnecessairemarketingcookiecategoriesdetailsnecessairemachinenamenecessairelabelNu00e9cessairedescriptionEnregistrevotreconsentementu00e0lu0027utilisationdescookiescheckboxdefaultstaterequiredweight0marketingmachinenamemarketinglabelMarketingdescriptionAveclu0027aidedecescookiesnousnousefforu00e7onsdu0027amu00e9liorernotreoffrepournosutilisateursParlebiaisdedonnu00e9esanonymesdesutilisateursdusitewebnouspouvonsoptimiserlefluxdelu0027utilisateurcequinouspermetdu0027amu00e9liorerlescontenusdusitecheckboxdefaultstateuncheckedweight1enablesavepreferencesbutton1cookienameesieecookieagreecontainingelementbodyautomaticcookiesremoval1esieesliderstrainingduration4trainingauto1promotionduration2esieescholarshipmax804050quotient8060min604051max607300quotient6040min407301max4015250quotient4020min2015251max2099999999999quotient200esieethemetraileuccxpluginsgadsenseoverridesadsenseblacklistgooglesyndicationcomganalyticsblacklistanalyticscookieshandledgagatgidmatomoblacklistmatomounticked0dab0scriptscriptsrchttpscodejquerycomjquerymigrate121jsscriptAudiencescriptvarpaqwindowpaqwindowpaqtrackermethodslikesetCustomDimensionshouldbecalledbeforetrackPageViewpaqpushtrackPageViewpaqpushenableLinkTrackingfunctionvaruhttpsaudienceesieefrpaqpushsetTrackerUrlumatomophppaqpushsetSiteId6varddocumentgdcreateElementscriptsdgetElementsByTagNamescript0gasynctruegsrcumatomojssparentNodeinsertBeforegsscriptnoscriptimgreferrerpolicynoreferrerwhendowngradesrchttpsaudienceesieefrmatomophpidsite6amprec1styleborder0altnoscriptEndAudienceCodebodyhtml\n"
     ]
    }
   ],
   "source": [
    "from urllib.parse import urlparse\n",
    "# Exercice 2\n",
    "\n",
    "def remove_spaces(string):\n",
    "    return string.strip()\n",
    "\n",
    "def remove_special_char(string):\n",
    "    return ''.join(e for e in string if e.isalnum())\n",
    "\n",
    "def get_domain(url):\n",
    "    domain = urlparse(url).netloc\n",
    "    return domain\n",
    "\n",
    "clean_string = remove_spaces(resp)\n",
    "clean_string = remove_special_char(clean_string)\n",
    "domain = get_domain(\"http://www.esiee.fr/\")\n",
    "print(domain)\n",
    "print(clean_string)"
   ]
  },
  {
   "cell_type": "markdown",
   "metadata": {},
   "source": [
    "# Exploitation du HTML  "
   ]
  },
  {
   "cell_type": "markdown",
   "metadata": {},
   "source": [
    "Ici, il faut récupérer le code HTML d'un site web à partir d'une requête. Lorsque vous avez récupéré le texte d'un site il faut le parser. Pour cela, on utilise BeautifulSoup qui permet de transformer la structure HTML en objet Python. Cela permet de récupérer efficacement les données qui nous intéresse.\n",
    "\n",
    "Pour les webmasters, le blocage le plus souvent mis en place et un blocage sur le User-Agent. Le User-Agent est un paramètre intégré dans la requête HTTP réalisé par le Navigateur pour envoyer au front des informations basiques :\n",
    "\n",
    "- la version du Navigateur,\n",
    "- la version de l'OS\n",
    "- Le type de gestionnaire graphique (Gecko)\n",
    "- le type de device utilisé"
   ]
  },
  {
   "cell_type": "markdown",
   "metadata": {},
   "source": [
    "Exemple de User Agent :  \n",
    "\n",
    "`Mozilla/5.0 (Windows NT 6.1; Win64; x64; rv:47.0) Gecko/20100101 Firefox/47.0`"
   ]
  },
  {
   "cell_type": "markdown",
   "metadata": {},
   "source": [
    "Commençons à utiliser `BeautifulSoup`, pour l'installer : "
   ]
  },
  {
   "cell_type": "code",
   "execution_count": 22,
   "metadata": {},
   "outputs": [
    {
     "name": "stdout",
     "output_type": "stream",
     "text": [
      "Requirement already satisfied: bs4 in /root/.local/share/virtualenvs/code-AFz48Hjb/lib/python3.8/site-packages (0.0.1)\n",
      "Requirement already satisfied: beautifulsoup4 in /root/.local/share/virtualenvs/code-AFz48Hjb/lib/python3.8/site-packages (from bs4) (4.11.1)\n",
      "Requirement already satisfied: soupsieve>1.2 in /root/.local/share/virtualenvs/code-AFz48Hjb/lib/python3.8/site-packages (from beautifulsoup4->bs4) (2.3.2.post1)\n",
      "Requirement already satisfied: lxml in /root/.local/share/virtualenvs/code-AFz48Hjb/lib/python3.8/site-packages (4.9.1)\n"
     ]
    }
   ],
   "source": [
    "!pip install bs4\n",
    "!pip install  lxml"
   ]
  },
  {
   "cell_type": "code",
   "execution_count": 23,
   "metadata": {},
   "outputs": [],
   "source": [
    "import requests\n",
    "from bs4 import BeautifulSoup"
   ]
  },
  {
   "cell_type": "markdown",
   "metadata": {},
   "source": [
    "Pour transformer une requête (requests) en objet BeautifulSoup :"
   ]
  },
  {
   "cell_type": "code",
   "execution_count": 24,
   "metadata": {},
   "outputs": [],
   "source": [
    "response = requests.get(url)\n",
    "soup = BeautifulSoup(response.text)"
   ]
  },
  {
   "cell_type": "markdown",
   "metadata": {},
   "source": [
    "Il se peut qu'un message d'erreur arrive à ce point là si vous n'avez pas la librarie `lxml` installée, pour se faire vous avez juste à lancer la commande suivante : "
   ]
  },
  {
   "cell_type": "code",
   "execution_count": 25,
   "metadata": {},
   "outputs": [
    {
     "name": "stdout",
     "output_type": "stream",
     "text": [
      "Requirement already satisfied: lxml in /root/.local/share/virtualenvs/code-AFz48Hjb/lib/python3.8/site-packages (4.9.1)\r\n"
     ]
    }
   ],
   "source": [
    "!pip install lxml"
   ]
  },
  {
   "cell_type": "markdown",
   "metadata": {},
   "source": [
    "Pour trouver tous les liens d'une page on récupère la balise `a` qui permet de gérer les liens en HTML  :"
   ]
  },
  {
   "cell_type": "code",
   "execution_count": 26,
   "metadata": {},
   "outputs": [
    {
     "data": {
      "text/plain": [
       "[<a href=\"#\">\n",
       " <i class=\"icon-parametres\"></i>\n",
       " </a>,\n",
       " <a href=\"https://gmail.com\" target=\"_blank\" title=\"Webmail ESIEE Paris\"><i><img alt=\"\" src=\"https://www.esiee.fr/sites/default/files/menu_icons/menu_icon_950.png\"/> </i><span>Webmail ESIEE Paris</span></a>,\n",
       " <a href=\"https://planif.esiee.fr/direct/\" target=\"_blank\" title=\"Emploi du temps général\"><i><img alt=\"\" src=\"https://www.esiee.fr/sites/default/files/menu_icons/menu_icon_1331.png\"/> </i><span>Emploi du temps général</span></a>,\n",
       " <a href=\"https://planif.esiee.fr/jsp/custom/esiee/easyMyPlanning.jsp\" target=\"_blank\" title=\"Emploi du temps individuel\"><i><img alt=\"\" src=\"https://www.esiee.fr/sites/default/files/menu_icons/menu_icon_1332.png\"/> </i><span>Emploi du temps individuel</span></a>,\n",
       " <a href=\"https://intra.esiee.fr\" target=\"_blank\" title=\"Extranet\"><i><img alt=\"\" src=\"https://www.esiee.fr/sites/default/files/menu_icons/menu_icon_951.png\"/> </i><span>Extranet</span></a>,\n",
       " <a href=\"https://blackboard.esiee.fr\" target=\"_blank\" title=\"iCampus Blackboard\"><i><img alt=\"\" src=\"https://www.esiee.fr/sites/default/files/menu_icons/menu_icon_1311.png\"/> </i><span>iCampus Blackboard</span></a>,\n",
       " <a href=\"http://e5.onthehub.com/WebStore/Welcome.aspx?vsro=8&amp;ws=45AD823E-799B-E011-969D-0030487D8897&amp;JSEnabled=1\" target=\"_blank\" title=\"Microsoft DreamSpark\"><i><img alt=\"\" src=\"https://www.esiee.fr/sites/default/files/menu_icons/menu_icon_1696.png\"/> </i><span>Microsoft DreamSpark</span></a>,\n",
       " <a href=\"/en\">\n",
       " <i>\n",
       " <img alt=\"English\" src=\"/sites/all/themes/custom/esiee_theme/assets/images/flag-en.png\"/>\n",
       " </i>\n",
       " </a>,\n",
       " <a href=\"https://www.facebook.com/esieeparis\" target=\"_blank\">\n",
       " <i class=\"fa fa-facebook\"></i>\n",
       " </a>,\n",
       " <a href=\"https://twitter.com/ESIEEPARIS\" target=\"_blank\">\n",
       " <i class=\"fa fa-twitter\"></i>\n",
       " </a>]"
      ]
     },
     "execution_count": 26,
     "metadata": {},
     "output_type": "execute_result"
    }
   ],
   "source": [
    "soup.find_all(\"a\")[0:10]"
   ]
  },
  {
   "cell_type": "markdown",
   "metadata": {},
   "source": [
    "On peut préciser la classe HTML voulue  pour l'ensemble des `a`:\n",
    "\n",
    "```python\n",
    "soup.find_all(class_=\"<CLASS_NAME>\")[0:10]\n",
    "```\n",
    "\n",
    "Ici par exemple: "
   ]
  },
  {
   "cell_type": "code",
   "execution_count": 27,
   "metadata": {},
   "outputs": [
    {
     "data": {
      "text/plain": [
       "[<div class=\"slide slide-content\">\n",
       " <span class=\"slide-content-date inline-block\"><span class=\"date-display-single\">28.09.2022</span></span>\n",
       " <span class=\"slide-content-theme inline-block is-uppercase\">Portes ouvertes</span>\n",
       " <div class=\"clearfix\"></div>\n",
       " <div class=\"slide-content-img pull-left\"><!-- scald=3528:news_thumbnail --><img alt=\"Journée portes ouvertes \" height=\"90\" src=\"https://www.esiee.fr/sites/default/files/styles/news/public/thumbnails/image/journee_porte_ouverte.png?itok=it4_UhmE\" title=\"Portes ouvertes le samedi 10 décembre 2022\" width=\"120\"/><!-- END scald=3528 --></div>\n",
       " <span class=\"slide-content-title\"><a class=\"is-uppercase\" href=\"/fr/actualites/esiee-paris-vous-ouvre-ses-portes-le-samedi-10-decembre-2022\">ESIEE Paris vous ouvre ses portes le samedi 10 décembre 2022</a></span>\n",
       " <div class=\"clearfix\"></div>\n",
       " <p class=\"slide-content-desc\">De 13h à 18h venez découvrir notre école. </p> </div>,\n",
       " <div class=\"slide slide-content\">\n",
       " <span class=\"slide-content-date inline-block\"><span class=\"date-display-single\">16.11.2022</span></span>\n",
       " <span class=\"slide-content-theme inline-block is-uppercase\">Actualités</span>\n",
       " <div class=\"clearfix\"></div>\n",
       " <div class=\"slide-content-img pull-left\"><!-- scald=3611:news_thumbnail --><img alt=\"échanges entre les élèves \" height=\"90\" src=\"https://www.esiee.fr/sites/default/files/styles/news/public/thumbnails/image/virtual-exchanges-2022.png?itok=9gU3JR--\" title=\"Un programme de rencontres culturelles à ESIEE Paris\" width=\"120\"/><!-- END scald=3611 --></div>\n",
       " <span class=\"slide-content-title\"><a class=\"is-uppercase\" href=\"/fr/actualites/un-programme-de-rencontres-culturelles-a-esiee-paris\">Un programme de rencontres culturelles à ESIEE Paris</a></span>\n",
       " <div class=\"clearfix\"></div>\n",
       " <p class=\"slide-content-desc\">Retour sur la journée du 7 novembre</p> </div>,\n",
       " <div class=\"slide slide-content\">\n",
       " <span class=\"slide-content-date inline-block\"><span class=\"date-display-single\">21.10.2022</span></span>\n",
       " <span class=\"slide-content-theme inline-block is-uppercase\">Admissions</span>\n",
       " <div class=\"clearfix\"></div>\n",
       " <div class=\"slide-content-img pull-left\"><!-- scald=3585:news_thumbnail --><img alt=\"Batiment entrée ESIEE Paris\" height=\"90\" src=\"https://www.esiee.fr/sites/default/files/styles/news/public/thumbnails/image/batiment-esiee-920x600.jpg?itok=IFRs10G9\" title=\"Batiment entrée ESIEE Paris\" width=\"120\"/><!-- END scald=3585 --></div>\n",
       " <span class=\"slide-content-title\"><a class=\"is-uppercase\" href=\"/fr/actualite/integrer-cycle-ingenieur-but\">[Réforme des IUT] Intégrez ESIEE Paris dès le BUT 2 (DUT)</a></span>\n",
       " <div class=\"clearfix\"></div>\n",
       " <p class=\"slide-content-desc\">Les élèves en BUT 2 (DUT) pourront s’orienter vers la formation d’ingénieur à ESIEE Paris dès la fin de leur 2e année.</p> </div>,\n",
       " <div class=\"slide slide-content\">\n",
       " <span class=\"slide-content-date inline-block\"><span class=\"date-display-single\">24.11.2022</span></span>\n",
       " <span class=\"slide-content-theme inline-block is-uppercase\">Admissions</span>\n",
       " <div class=\"clearfix\"></div>\n",
       " <div class=\"slide-content-img pull-left\"><!-- scald=3625:news_thumbnail --><img alt=\"Logo Puissance Alpha - Concours d'accès aux grandes écoles d'ingénieurs\" height=\"90\" src=\"https://www.esiee.fr/sites/default/files/styles/news/public/thumbnails/image/logo-puissance-alpha-210x140-web.jpg?itok=bZw_1SYP\" title=\"Logo Puissance Alpha - Concours d'accès aux grandes écoles d'ingénieurs\" width=\"120\"/><!-- END scald=3625 --></div>\n",
       " <span class=\"slide-content-title\"><a class=\"is-uppercase\" href=\"/fr/actualite/session-preparation-puissance-alpha-2023\">Préparez-vous au Concours Puissance Alpha 2023 à ESIEE Paris ! </a></span>\n",
       " <div class=\"clearfix\"></div>\n",
       " <p class=\"slide-content-desc\">Rendez-vous le samedi 18 mars 2023 pour une session de préparation gratuite.</p> </div>,\n",
       " <div class=\"slide slide-content\">\n",
       " <span class=\"slide-content-date inline-block\"><span class=\"date-display-single\">06.01.2022</span></span>\n",
       " <span class=\"slide-content-theme inline-block is-uppercase\">Classement</span>\n",
       " <div class=\"clearfix\"></div>\n",
       " <div class=\"slide-content-img pull-left\"><!-- scald=2842:news_thumbnail --><img alt=\"L'étudiant 2021\" height=\"90\" src=\"https://www.esiee.fr/sites/default/files/styles/news/public/thumbnails/image/logo-letudiant-210x140-v2.png?itok=ICtmStsb\" title=\"L'étudiant 2021\" width=\"120\"/><!-- END scald=2842 --></div>\n",
       " <span class=\"slide-content-title\"><a class=\"is-uppercase\" href=\"/fr/actualites/classement-letudiant-ecole-ingenieur-2022\">Classement L’Etudiant 2022 : ESIEE PARIS 4e école post-bac, 1re en Ile-de-France</a></span>\n",
       " <div class=\"clearfix\"></div>\n",
       " <p class=\"slide-content-desc\">ESIEE Paris conserve sa place parmi les écoles d’ingénieurs du Groupe A, en 4e position des écoles post-bac.</p> </div>]"
      ]
     },
     "execution_count": 27,
     "metadata": {},
     "output_type": "execute_result"
    }
   ],
   "source": [
    "soup.find_all(class_=\"slide\")[0:5]"
   ]
  },
  {
   "cell_type": "markdown",
   "metadata": {},
   "source": [
    "Pour récupérer le text sans les balises HTML :"
   ]
  },
  {
   "cell_type": "code",
   "execution_count": 28,
   "metadata": {},
   "outputs": [
    {
     "data": {
      "text/plain": [
       "' \\n\\n\\n\\n\\n\\n\\n\\n\\n\\n\\n\\nESIEE Paris, l’école de l’innovation technologique | Grande école d’ingénieurs | ESIEE Paris\\n\\n\\n\\n\\n\\n\\n\\n\\n\\n\\n\\n\\n\\n\\n\\n \\n\\n\\n\\n\\n\\n\\n\\n\\n\\n\\n\\nLes outils ESIEE Paris Webmail ESIEE Paris Emploi du temps général Emploi du temps individuel Extranet iCampus Blackboard Microsoft DreamSpark \\n\\n\\n\\n\\n\\n\\n\\n\\n\\n\\n\\n\\n\\n\\n\\n\\n\\n\\n\\n\\n\\n\\n\\n\\n\\n\\n\\n\\n\\n\\n\\n\\n\\n\\n\\n\\n\\n\\n\\n\\n\\n\\n\\n\\n\\n\\n menu\\nFormations\\n\\n\\nRETOUR menu\\nFormations ESIEE ParisIngénieur\\n\\n\\nIngénieur\\nRETOUR Formations\\nIngénieur ESIEE ParisPremier cycleLe cycle ingénieur\\n\\n\\nLe cycle ingénieur\\nRETOUR Ingénieur\\nLe cycle ingénieur ESIEE ParisEnseignements de 1re annéeEnseignements de 2e et 3e annéeProfils métiersFilières\\n\\n\\nFilières\\nRETOUR Ingénieur\\n9 filières, 1 diplômeInformatiqueCybersécuritéDatascience et intelligence artificielleArtificial Intelligence and CybersecuritySystèmes embarquésSystèmes électroniques intelligentsGénie industrielBiotechnologies et e-santéEnergieDoubles-diplômesEmplois et salairesFrais de scolarité - Aides financièresStagesAdmissionsContactIngénieur par apprentissage\\n'"
      ]
     },
     "execution_count": 28,
     "metadata": {},
     "output_type": "execute_result"
    }
   ],
   "source": [
    "soup.text[0:1000]"
   ]
  },
  {
   "cell_type": "markdown",
   "metadata": {},
   "source": [
    "## Exercice\n",
    "### Exercice 3\n",
    "\n",
    "Améliorer la classe développé précédemment.\n",
    "\n",
    "- Ajouter une méthode pour récupérer l'objet soup d'un url\n",
    "- Récupérer une liste de User Agent et effectuer une rotation aléatoire sur celui à utiliser\n",
    "- Utiliser cette classe pour parser une page HTML et récupérer : le titre, tous les H1 (si ils existent), les liens vers les images, les liens sortants vers d'autres sites, et le texte principal.\n",
    "\n",
    "Parsing d'un sitemaps pour récupérer une listes de liens avec les informations disponibles. -> Stocker dans un dictionnaire et dans un fichier JSON local."
   ]
  },
  {
   "cell_type": "markdown",
   "metadata": {},
   "source": [
    "# Exploitation des appels d'API\n"
   ]
  },
  {
   "cell_type": "markdown",
   "metadata": {},
   "source": [
    "\n",
    "Losque le front du site récupère des données sur une API géré par le back, un appel d'API est réalisé. Cet appel est recensé dans les appels réseaux. Il est alors possible de re-jouer cet appel pour récupérer à nouveau les données. Il est très facile de récupérer ces appels dans l'onglet Network de la console développeur de Chrome ou FireFox. La console vous permet de copier le code CURL pour effectuée et vous pouvez ensuite la transformer en code Python depuis le site https://curl.trillworks.com/.\n",
    "\n",
    "Souvent les APIs sont bloquées avec certain paramètres. L'API verifie que dans les headers de la requêtes HTTP ces paramètres sont présents : * un token généré à la volée avec des protocole OAuth2 (ou moins développés). * un referer provenant du site web (la source de la requête), très facile à falsifier.\n",
    "\n"
   ]
  },
  {
   "cell_type": "markdown",
   "metadata": {},
   "source": [
    "## Exercice \n",
    "### Exercice 4\n",
    "\n",
    "- Utiliser les informations développées plus haut pour récupérer les premiers résultats d'une recherche d'une requête\n",
    "sur Qwant. \n",
    "\n",
    "Tips : \n",
    "\n",
    "- Aller sur https://www.qwant.com/\n",
    "- Ouvrir les outils de développements de Chrome ou Firefox\n",
    "- Onglet Network\n",
    "- Fouiller dans les requêtes"
   ]
  },
  {
   "cell_type": "markdown",
   "metadata": {},
   "source": [
    "# Exercice Final  "
   ]
  },
  {
   "cell_type": "markdown",
   "metadata": {},
   "source": [
    "Exercice Final\n",
    "Utilisez tout ce que vous avez appris pour récupérer des articles de News avec une catégorie. Il est souvent intéressant de partir des flux RSS pour commencer :\n",
    "\n",
    "Les données doivent comprendre :\n",
    "- Le texte important propre\n",
    "- L'url\n",
    "- Le domaine\n",
    "- la catégorie\n",
    "- Le titre de l'article\n",
    "- Le titre de la page\n",
    "- (Facultatif) : les images\n",
    "\n",
    "Tips : \n",
    "\n",
    "- Taper le nom de votre média favoris + RSS (par exemple : https://www.lemonde.fr/rss/)\n",
    "- Aller dans le DOM de la page \n",
    "- Trouver les catégories et les liens vers les articles"
   ]
  },
  {
   "cell_type": "code",
   "execution_count": null,
   "metadata": {},
   "outputs": [],
   "source": []
  }
 ],
 "metadata": {
  "kernelspec": {
   "display_name": "Python 3 (ipykernel)",
   "language": "python",
   "name": "python3"
  },
  "language_info": {
   "codemirror_mode": {
    "name": "ipython",
    "version": 3
   },
   "file_extension": ".py",
   "mimetype": "text/x-python",
   "name": "python",
   "nbconvert_exporter": "python",
   "pygments_lexer": "ipython3",
   "version": "3.8.15"
  }
 },
 "nbformat": 4,
 "nbformat_minor": 2
}
